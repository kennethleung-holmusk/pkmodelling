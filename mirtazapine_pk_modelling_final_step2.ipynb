{
 "cells": [
  {
   "cell_type": "markdown",
   "metadata": {},
   "source": [
    "# PK Modelling Project - Mirtazapine"
   ]
  },
  {
   "cell_type": "code",
   "execution_count": 1,
   "metadata": {},
   "outputs": [],
   "source": [
    "# Import basic dependencies\n",
    "import numpy as np\n",
    "import pandas as pd\n",
    "import matplotlib.pyplot as plt\n",
    "import os\n",
    "import glob\n",
    "import time\n",
    "import pickle\n",
    "\n",
    "# Import local scikit-pk (skpk) library - https://stackoverflow.com/questions/67631/how-to-import-a-module-given-the-full-path\n",
    "import sys\n",
    "sys.path.append(r'C:\\Users\\klty0\\Desktop\\scikit-pk\\src')\n",
    "# sys.path.append(r'C:\\Users\\Kenneth Leung\\Desktop\\scikit-pk\\src')\n",
    "\n",
    "import skpk\n",
    "\n",
    "# Import ODE modules\n",
    "from scipy.integrate import odeint, solve_ivp\n",
    "from scipy.optimize import differential_evolution"
   ]
  },
  {
   "cell_type": "markdown",
   "metadata": {},
   "source": [
    "#### Data Preparation\n",
    "Creating list of lists with elements [subject_id, gender, age mean, age std]  \n",
    "For gender, 0 = Male and 1 = Female"
   ]
  },
  {
   "cell_type": "code",
   "execution_count": 2,
   "metadata": {},
   "outputs": [],
   "source": [
    "list_of_attr = [\n",
    "    [1,0,24,4],\n",
    "    [2,0,25,5],\n",
    "    [3,0,25,4], \n",
    "    [4,0,51,8], \n",
    "    [5,0,68,5], \n",
    "    [6,0,33,6], \n",
    "    [7,0,69,3], \n",
    "    [8,0,21,1], \n",
    "    [9,0,23,4], \n",
    "    [10,0,27,9], \n",
    "    [11,0,28,6], \n",
    "    [12,0,22,1], \n",
    "    [13,1,23,3], \n",
    "    [14,1,51,4], \n",
    "    [15,1,40,8], \n",
    "    [16,1,68,3], \n",
    "    [17,1,23,6],\n",
    "    [18,0,23,4],\n",
    "    [19,0,25,4],\n",
    "    [20,0,25,4],\n",
    "    [21,0,32,4],\n",
    "    [22,0,33,6],\n",
    "    [23,0,69,3],\n",
    "    [24,0,23,4],\n",
    "    [25,0,24,4],\n",
    "    [26,0,25,4],\n",
    "    [27,0,26,7],\n",
    "    [28,0,29,7],\n",
    "    [29,0,30,8],\n",
    "    [30,0,33,7],\n",
    "    [31,0,32,4],\n",
    "    [32,0,23,4],\n",
    "    [33,0,25,4],\n",
    "    [34,0,32,4],\n",
    "    [35,0,23,4],\n",
    "    [36,0,25,4],\n",
    "    [37,0,25,4],\n",
    "    [38,0,23,4],\n",
    "    [39,1,40,8],\n",
    "    [40,1,68,3],\n",
    "    [41,1,23,4],\n",
    "    [42,1,34,10],\n",
    "]"
   ]
  },
  {
   "cell_type": "code",
   "execution_count": 3,
   "metadata": {},
   "outputs": [],
   "source": [
    "df_attr = pd.DataFrame(list_of_attr, columns = ['subject_id','gender','age_mean','age_sd'])"
   ]
  },
  {
   "cell_type": "code",
   "execution_count": 4,
   "metadata": {},
   "outputs": [],
   "source": [
    "# Create dataframe of PK parameters (Subject ID, Cmax mean, Cmax SD, Tmax mean, Tmax SD, AUC mean, AUC SD, Study Reference)\n",
    "list_of_pk_paras = [\n",
    "    [1, 32.3, 11.4, 1.65, 0.70, 345, 103, 20, 'Single', 15],\n",
    "    [2, 32.5, 9.7, 1.50, 0.60, 281, 83, 21, 'Single', 15],\n",
    "    [3, 31.6, 12.8, 1.82, 0.71, 216, 46, 22, 'Single', 15],\n",
    "    [4, 42.5, 16.3, 1.20, 0.30, 362, 66, 23, 'Single', 15],\n",
    "    [5, 40.6, 13.8, 1.45, 0.73, 486, 161, 24, 'Single', 15],\n",
    "    [6, 32.1, 8.1, 1.67, 0.65, 355, 199, 25, 'Single', 20],\n",
    "    [7, 48.4, 20.1, 1.59, 0.74, 647, 294, 25, 'Single', 20],\n",
    "    [8, 67.7, 20.6, 1.04, 0.10, 459, 136, 26, 'Single', 30],\n",
    "    [9, 74.4, 23.5, 1.41, 0.74, 614, 177, 27, 'Single', 30],\n",
    "    [10, 56.1, 13.9, 1.42, 0.56, 562, 134, 28, 'Single', 30],\n",
    "    [11, 74.5, 37.8, 1.53, 0.78, 570, 137, 29, 'Single', 30],\n",
    "    [12, 113.0, 55.8, 1.21, 0.40, 808, 285, 26, 'Single', 45],\n",
    "    [13, 42.0, 8.2, 1.58, 0.68, 445, 94, 21, 'Single', 15],\n",
    "    [14, 24.7, 6.9, 1.80, 0.80, 397, 218, 23, 'Single', 15],\n",
    "    [15, 36.9, 11.3, 1.72, 1.00, 673, 248, 25, 'Single', 20],\n",
    "    [16, 45.6, 20.2, 2.03, 1.64, 770, 270, 25, 'Single', 20],\n",
    "    [17, 88.8, 38.7, 2.09, 1.84, 950, 298, 29, 'Single', 30],\n",
    "    [18, 34.2, 13.4, 1.54, 0.51, 294, 100, 30, 'Multiple', 15],\n",
    "    [19, 39.0, 12.0, 2.20, 1.50, 409, 116, 31, 'Multiple', 15],\n",
    "    [20, 41.8, 7.7, 1.47, 0.75, 252, 48, 22, 'Multiple', 15],\n",
    "    [21, 30.6, 7.8, 2.02, 1.11, 282, 51, 32, 'Multiple', 15],\n",
    "    [22, 45.9, 24.3, 1.33, 0.43, 386, 170, 25, 'Multiple', 20],\n",
    "    [23, 51.6, 29.4, 2.41, 1.66, 693, 357, 25, 'Multiple', 20],\n",
    "    [24, 84.2, 36.5, 1.62, 0.82, 618, 205, 30, 'Multiple', 30],\n",
    "    [25, 76.0, 33.0, 1.99, 1.65, 589, 142, 33, 'Multiple', 30],\n",
    "    [26, 80.0, 24.0, 2.60, 1.40, 900, 254, 31, 'Multiple', 30],\n",
    "    [27, 55.0, 8.9, 2.96, 1.24, 630, 160, 34, 'Multiple', 30],\n",
    "    [28, 80.4, 18.5, 1.10, 0.30, 706, 235, 35, 'Multiple', 30],\n",
    "    [29, 62.5, 15.8, 2.10, 1.08, 635, 196, 36, 'Multiple', 30],\n",
    "    [30, 89.0, 21.0, 1.36, 0.39, 761, 140, 37, 'Multiple', 30],\n",
    "    [31, 63.8, 16.8, 2.08, 0.93, 553, 96, 32, 'Multiple', 30],\n",
    "    [32, 118.3, 47.3, 1.33, 0.85, 908, 308, 30, 'Multiple', 45],\n",
    "    [33, 113.0, 29.0, 2.90, 1.80, 1350, 353, 31, 'Multiple', 45],\n",
    "    [34, 102.1, 37.5, 1.79, 1.03, 786, 176, 32, 'Multiple', 45],\n",
    "    [35, 141.2, 40.6, 1.06, 0.24, 1135, 247, 30, 'Multiple', 60],\n",
    "    [36, 158.0, 41.0, 2.70, 1.60, 1793, 447, 31, 'Multiple', 60],\n",
    "    [37, 181.0, 44.0, 3.10, 1.70, 2149, 476, 31, 'Multiple', 75],\n",
    "    [38, 227.5, 31.1, 1.67, 0.58, 1797, 446, 30, 'Multiple', 80],\n",
    "    [39, 59.9, 21.4, 2.33, 1.62, 769, 234, 25, 'Multiple', 20],\n",
    "    [40, 62.0, 27.6, 2.31, 1.43, 860, 238, 25, 'Multiple', 20],\n",
    "    [41, 81.7, 26.9, 2.29, 1.03, 958, 272, 34, 'Multiple', 30],\n",
    "    [42, 80.0, 16.0, 1.39, 0.42, 785, 173, 37, 'Multiple', 30],\n",
    "]"
   ]
  },
  {
   "cell_type": "code",
   "execution_count": 5,
   "metadata": {
    "scrolled": true
   },
   "outputs": [
    {
     "data": {
      "text/html": [
       "<div>\n",
       "<style scoped>\n",
       "    .dataframe tbody tr th:only-of-type {\n",
       "        vertical-align: middle;\n",
       "    }\n",
       "\n",
       "    .dataframe tbody tr th {\n",
       "        vertical-align: top;\n",
       "    }\n",
       "\n",
       "    .dataframe thead th {\n",
       "        text-align: right;\n",
       "    }\n",
       "</style>\n",
       "<table border=\"1\" class=\"dataframe\">\n",
       "  <thead>\n",
       "    <tr style=\"text-align: right;\">\n",
       "      <th></th>\n",
       "      <th>subject_id</th>\n",
       "      <th>Cmax_mean</th>\n",
       "      <th>Cmax_sd</th>\n",
       "      <th>Tmax_mean</th>\n",
       "      <th>Tmax_sd</th>\n",
       "      <th>AUC_mean</th>\n",
       "      <th>AUC_sd</th>\n",
       "      <th>reference</th>\n",
       "      <th>dosing</th>\n",
       "      <th>dose</th>\n",
       "    </tr>\n",
       "  </thead>\n",
       "  <tbody>\n",
       "    <tr>\n",
       "      <th>0</th>\n",
       "      <td>1</td>\n",
       "      <td>32.3</td>\n",
       "      <td>11.4</td>\n",
       "      <td>1.65</td>\n",
       "      <td>0.70</td>\n",
       "      <td>345</td>\n",
       "      <td>103</td>\n",
       "      <td>20</td>\n",
       "      <td>Single</td>\n",
       "      <td>15</td>\n",
       "    </tr>\n",
       "    <tr>\n",
       "      <th>1</th>\n",
       "      <td>2</td>\n",
       "      <td>32.5</td>\n",
       "      <td>9.7</td>\n",
       "      <td>1.50</td>\n",
       "      <td>0.60</td>\n",
       "      <td>281</td>\n",
       "      <td>83</td>\n",
       "      <td>21</td>\n",
       "      <td>Single</td>\n",
       "      <td>15</td>\n",
       "    </tr>\n",
       "    <tr>\n",
       "      <th>2</th>\n",
       "      <td>3</td>\n",
       "      <td>31.6</td>\n",
       "      <td>12.8</td>\n",
       "      <td>1.82</td>\n",
       "      <td>0.71</td>\n",
       "      <td>216</td>\n",
       "      <td>46</td>\n",
       "      <td>22</td>\n",
       "      <td>Single</td>\n",
       "      <td>15</td>\n",
       "    </tr>\n",
       "    <tr>\n",
       "      <th>3</th>\n",
       "      <td>4</td>\n",
       "      <td>42.5</td>\n",
       "      <td>16.3</td>\n",
       "      <td>1.20</td>\n",
       "      <td>0.30</td>\n",
       "      <td>362</td>\n",
       "      <td>66</td>\n",
       "      <td>23</td>\n",
       "      <td>Single</td>\n",
       "      <td>15</td>\n",
       "    </tr>\n",
       "    <tr>\n",
       "      <th>4</th>\n",
       "      <td>5</td>\n",
       "      <td>40.6</td>\n",
       "      <td>13.8</td>\n",
       "      <td>1.45</td>\n",
       "      <td>0.73</td>\n",
       "      <td>486</td>\n",
       "      <td>161</td>\n",
       "      <td>24</td>\n",
       "      <td>Single</td>\n",
       "      <td>15</td>\n",
       "    </tr>\n",
       "    <tr>\n",
       "      <th>5</th>\n",
       "      <td>6</td>\n",
       "      <td>32.1</td>\n",
       "      <td>8.1</td>\n",
       "      <td>1.67</td>\n",
       "      <td>0.65</td>\n",
       "      <td>355</td>\n",
       "      <td>199</td>\n",
       "      <td>25</td>\n",
       "      <td>Single</td>\n",
       "      <td>20</td>\n",
       "    </tr>\n",
       "    <tr>\n",
       "      <th>6</th>\n",
       "      <td>7</td>\n",
       "      <td>48.4</td>\n",
       "      <td>20.1</td>\n",
       "      <td>1.59</td>\n",
       "      <td>0.74</td>\n",
       "      <td>647</td>\n",
       "      <td>294</td>\n",
       "      <td>25</td>\n",
       "      <td>Single</td>\n",
       "      <td>20</td>\n",
       "    </tr>\n",
       "    <tr>\n",
       "      <th>7</th>\n",
       "      <td>8</td>\n",
       "      <td>67.7</td>\n",
       "      <td>20.6</td>\n",
       "      <td>1.04</td>\n",
       "      <td>0.10</td>\n",
       "      <td>459</td>\n",
       "      <td>136</td>\n",
       "      <td>26</td>\n",
       "      <td>Single</td>\n",
       "      <td>30</td>\n",
       "    </tr>\n",
       "    <tr>\n",
       "      <th>8</th>\n",
       "      <td>9</td>\n",
       "      <td>74.4</td>\n",
       "      <td>23.5</td>\n",
       "      <td>1.41</td>\n",
       "      <td>0.74</td>\n",
       "      <td>614</td>\n",
       "      <td>177</td>\n",
       "      <td>27</td>\n",
       "      <td>Single</td>\n",
       "      <td>30</td>\n",
       "    </tr>\n",
       "    <tr>\n",
       "      <th>9</th>\n",
       "      <td>10</td>\n",
       "      <td>56.1</td>\n",
       "      <td>13.9</td>\n",
       "      <td>1.42</td>\n",
       "      <td>0.56</td>\n",
       "      <td>562</td>\n",
       "      <td>134</td>\n",
       "      <td>28</td>\n",
       "      <td>Single</td>\n",
       "      <td>30</td>\n",
       "    </tr>\n",
       "    <tr>\n",
       "      <th>10</th>\n",
       "      <td>11</td>\n",
       "      <td>74.5</td>\n",
       "      <td>37.8</td>\n",
       "      <td>1.53</td>\n",
       "      <td>0.78</td>\n",
       "      <td>570</td>\n",
       "      <td>137</td>\n",
       "      <td>29</td>\n",
       "      <td>Single</td>\n",
       "      <td>30</td>\n",
       "    </tr>\n",
       "    <tr>\n",
       "      <th>11</th>\n",
       "      <td>12</td>\n",
       "      <td>113.0</td>\n",
       "      <td>55.8</td>\n",
       "      <td>1.21</td>\n",
       "      <td>0.40</td>\n",
       "      <td>808</td>\n",
       "      <td>285</td>\n",
       "      <td>26</td>\n",
       "      <td>Single</td>\n",
       "      <td>45</td>\n",
       "    </tr>\n",
       "    <tr>\n",
       "      <th>12</th>\n",
       "      <td>13</td>\n",
       "      <td>42.0</td>\n",
       "      <td>8.2</td>\n",
       "      <td>1.58</td>\n",
       "      <td>0.68</td>\n",
       "      <td>445</td>\n",
       "      <td>94</td>\n",
       "      <td>21</td>\n",
       "      <td>Single</td>\n",
       "      <td>15</td>\n",
       "    </tr>\n",
       "    <tr>\n",
       "      <th>13</th>\n",
       "      <td>14</td>\n",
       "      <td>24.7</td>\n",
       "      <td>6.9</td>\n",
       "      <td>1.80</td>\n",
       "      <td>0.80</td>\n",
       "      <td>397</td>\n",
       "      <td>218</td>\n",
       "      <td>23</td>\n",
       "      <td>Single</td>\n",
       "      <td>15</td>\n",
       "    </tr>\n",
       "    <tr>\n",
       "      <th>14</th>\n",
       "      <td>15</td>\n",
       "      <td>36.9</td>\n",
       "      <td>11.3</td>\n",
       "      <td>1.72</td>\n",
       "      <td>1.00</td>\n",
       "      <td>673</td>\n",
       "      <td>248</td>\n",
       "      <td>25</td>\n",
       "      <td>Single</td>\n",
       "      <td>20</td>\n",
       "    </tr>\n",
       "    <tr>\n",
       "      <th>15</th>\n",
       "      <td>16</td>\n",
       "      <td>45.6</td>\n",
       "      <td>20.2</td>\n",
       "      <td>2.03</td>\n",
       "      <td>1.64</td>\n",
       "      <td>770</td>\n",
       "      <td>270</td>\n",
       "      <td>25</td>\n",
       "      <td>Single</td>\n",
       "      <td>20</td>\n",
       "    </tr>\n",
       "    <tr>\n",
       "      <th>16</th>\n",
       "      <td>17</td>\n",
       "      <td>88.8</td>\n",
       "      <td>38.7</td>\n",
       "      <td>2.09</td>\n",
       "      <td>1.84</td>\n",
       "      <td>950</td>\n",
       "      <td>298</td>\n",
       "      <td>29</td>\n",
       "      <td>Single</td>\n",
       "      <td>30</td>\n",
       "    </tr>\n",
       "    <tr>\n",
       "      <th>17</th>\n",
       "      <td>18</td>\n",
       "      <td>34.2</td>\n",
       "      <td>13.4</td>\n",
       "      <td>1.54</td>\n",
       "      <td>0.51</td>\n",
       "      <td>294</td>\n",
       "      <td>100</td>\n",
       "      <td>30</td>\n",
       "      <td>Multiple</td>\n",
       "      <td>15</td>\n",
       "    </tr>\n",
       "    <tr>\n",
       "      <th>18</th>\n",
       "      <td>19</td>\n",
       "      <td>39.0</td>\n",
       "      <td>12.0</td>\n",
       "      <td>2.20</td>\n",
       "      <td>1.50</td>\n",
       "      <td>409</td>\n",
       "      <td>116</td>\n",
       "      <td>31</td>\n",
       "      <td>Multiple</td>\n",
       "      <td>15</td>\n",
       "    </tr>\n",
       "    <tr>\n",
       "      <th>19</th>\n",
       "      <td>20</td>\n",
       "      <td>41.8</td>\n",
       "      <td>7.7</td>\n",
       "      <td>1.47</td>\n",
       "      <td>0.75</td>\n",
       "      <td>252</td>\n",
       "      <td>48</td>\n",
       "      <td>22</td>\n",
       "      <td>Multiple</td>\n",
       "      <td>15</td>\n",
       "    </tr>\n",
       "    <tr>\n",
       "      <th>20</th>\n",
       "      <td>21</td>\n",
       "      <td>30.6</td>\n",
       "      <td>7.8</td>\n",
       "      <td>2.02</td>\n",
       "      <td>1.11</td>\n",
       "      <td>282</td>\n",
       "      <td>51</td>\n",
       "      <td>32</td>\n",
       "      <td>Multiple</td>\n",
       "      <td>15</td>\n",
       "    </tr>\n",
       "    <tr>\n",
       "      <th>21</th>\n",
       "      <td>22</td>\n",
       "      <td>45.9</td>\n",
       "      <td>24.3</td>\n",
       "      <td>1.33</td>\n",
       "      <td>0.43</td>\n",
       "      <td>386</td>\n",
       "      <td>170</td>\n",
       "      <td>25</td>\n",
       "      <td>Multiple</td>\n",
       "      <td>20</td>\n",
       "    </tr>\n",
       "    <tr>\n",
       "      <th>22</th>\n",
       "      <td>23</td>\n",
       "      <td>51.6</td>\n",
       "      <td>29.4</td>\n",
       "      <td>2.41</td>\n",
       "      <td>1.66</td>\n",
       "      <td>693</td>\n",
       "      <td>357</td>\n",
       "      <td>25</td>\n",
       "      <td>Multiple</td>\n",
       "      <td>20</td>\n",
       "    </tr>\n",
       "    <tr>\n",
       "      <th>23</th>\n",
       "      <td>24</td>\n",
       "      <td>84.2</td>\n",
       "      <td>36.5</td>\n",
       "      <td>1.62</td>\n",
       "      <td>0.82</td>\n",
       "      <td>618</td>\n",
       "      <td>205</td>\n",
       "      <td>30</td>\n",
       "      <td>Multiple</td>\n",
       "      <td>30</td>\n",
       "    </tr>\n",
       "    <tr>\n",
       "      <th>24</th>\n",
       "      <td>25</td>\n",
       "      <td>76.0</td>\n",
       "      <td>33.0</td>\n",
       "      <td>1.99</td>\n",
       "      <td>1.65</td>\n",
       "      <td>589</td>\n",
       "      <td>142</td>\n",
       "      <td>33</td>\n",
       "      <td>Multiple</td>\n",
       "      <td>30</td>\n",
       "    </tr>\n",
       "    <tr>\n",
       "      <th>25</th>\n",
       "      <td>26</td>\n",
       "      <td>80.0</td>\n",
       "      <td>24.0</td>\n",
       "      <td>2.60</td>\n",
       "      <td>1.40</td>\n",
       "      <td>900</td>\n",
       "      <td>254</td>\n",
       "      <td>31</td>\n",
       "      <td>Multiple</td>\n",
       "      <td>30</td>\n",
       "    </tr>\n",
       "    <tr>\n",
       "      <th>26</th>\n",
       "      <td>27</td>\n",
       "      <td>55.0</td>\n",
       "      <td>8.9</td>\n",
       "      <td>2.96</td>\n",
       "      <td>1.24</td>\n",
       "      <td>630</td>\n",
       "      <td>160</td>\n",
       "      <td>34</td>\n",
       "      <td>Multiple</td>\n",
       "      <td>30</td>\n",
       "    </tr>\n",
       "    <tr>\n",
       "      <th>27</th>\n",
       "      <td>28</td>\n",
       "      <td>80.4</td>\n",
       "      <td>18.5</td>\n",
       "      <td>1.10</td>\n",
       "      <td>0.30</td>\n",
       "      <td>706</td>\n",
       "      <td>235</td>\n",
       "      <td>35</td>\n",
       "      <td>Multiple</td>\n",
       "      <td>30</td>\n",
       "    </tr>\n",
       "    <tr>\n",
       "      <th>28</th>\n",
       "      <td>29</td>\n",
       "      <td>62.5</td>\n",
       "      <td>15.8</td>\n",
       "      <td>2.10</td>\n",
       "      <td>1.08</td>\n",
       "      <td>635</td>\n",
       "      <td>196</td>\n",
       "      <td>36</td>\n",
       "      <td>Multiple</td>\n",
       "      <td>30</td>\n",
       "    </tr>\n",
       "    <tr>\n",
       "      <th>29</th>\n",
       "      <td>30</td>\n",
       "      <td>89.0</td>\n",
       "      <td>21.0</td>\n",
       "      <td>1.36</td>\n",
       "      <td>0.39</td>\n",
       "      <td>761</td>\n",
       "      <td>140</td>\n",
       "      <td>37</td>\n",
       "      <td>Multiple</td>\n",
       "      <td>30</td>\n",
       "    </tr>\n",
       "    <tr>\n",
       "      <th>30</th>\n",
       "      <td>31</td>\n",
       "      <td>63.8</td>\n",
       "      <td>16.8</td>\n",
       "      <td>2.08</td>\n",
       "      <td>0.93</td>\n",
       "      <td>553</td>\n",
       "      <td>96</td>\n",
       "      <td>32</td>\n",
       "      <td>Multiple</td>\n",
       "      <td>30</td>\n",
       "    </tr>\n",
       "    <tr>\n",
       "      <th>31</th>\n",
       "      <td>32</td>\n",
       "      <td>118.3</td>\n",
       "      <td>47.3</td>\n",
       "      <td>1.33</td>\n",
       "      <td>0.85</td>\n",
       "      <td>908</td>\n",
       "      <td>308</td>\n",
       "      <td>30</td>\n",
       "      <td>Multiple</td>\n",
       "      <td>45</td>\n",
       "    </tr>\n",
       "    <tr>\n",
       "      <th>32</th>\n",
       "      <td>33</td>\n",
       "      <td>113.0</td>\n",
       "      <td>29.0</td>\n",
       "      <td>2.90</td>\n",
       "      <td>1.80</td>\n",
       "      <td>1350</td>\n",
       "      <td>353</td>\n",
       "      <td>31</td>\n",
       "      <td>Multiple</td>\n",
       "      <td>45</td>\n",
       "    </tr>\n",
       "    <tr>\n",
       "      <th>33</th>\n",
       "      <td>34</td>\n",
       "      <td>102.1</td>\n",
       "      <td>37.5</td>\n",
       "      <td>1.79</td>\n",
       "      <td>1.03</td>\n",
       "      <td>786</td>\n",
       "      <td>176</td>\n",
       "      <td>32</td>\n",
       "      <td>Multiple</td>\n",
       "      <td>45</td>\n",
       "    </tr>\n",
       "    <tr>\n",
       "      <th>34</th>\n",
       "      <td>35</td>\n",
       "      <td>141.2</td>\n",
       "      <td>40.6</td>\n",
       "      <td>1.06</td>\n",
       "      <td>0.24</td>\n",
       "      <td>1135</td>\n",
       "      <td>247</td>\n",
       "      <td>30</td>\n",
       "      <td>Multiple</td>\n",
       "      <td>60</td>\n",
       "    </tr>\n",
       "    <tr>\n",
       "      <th>35</th>\n",
       "      <td>36</td>\n",
       "      <td>158.0</td>\n",
       "      <td>41.0</td>\n",
       "      <td>2.70</td>\n",
       "      <td>1.60</td>\n",
       "      <td>1793</td>\n",
       "      <td>447</td>\n",
       "      <td>31</td>\n",
       "      <td>Multiple</td>\n",
       "      <td>60</td>\n",
       "    </tr>\n",
       "    <tr>\n",
       "      <th>36</th>\n",
       "      <td>37</td>\n",
       "      <td>181.0</td>\n",
       "      <td>44.0</td>\n",
       "      <td>3.10</td>\n",
       "      <td>1.70</td>\n",
       "      <td>2149</td>\n",
       "      <td>476</td>\n",
       "      <td>31</td>\n",
       "      <td>Multiple</td>\n",
       "      <td>75</td>\n",
       "    </tr>\n",
       "    <tr>\n",
       "      <th>37</th>\n",
       "      <td>38</td>\n",
       "      <td>227.5</td>\n",
       "      <td>31.1</td>\n",
       "      <td>1.67</td>\n",
       "      <td>0.58</td>\n",
       "      <td>1797</td>\n",
       "      <td>446</td>\n",
       "      <td>30</td>\n",
       "      <td>Multiple</td>\n",
       "      <td>80</td>\n",
       "    </tr>\n",
       "    <tr>\n",
       "      <th>38</th>\n",
       "      <td>39</td>\n",
       "      <td>59.9</td>\n",
       "      <td>21.4</td>\n",
       "      <td>2.33</td>\n",
       "      <td>1.62</td>\n",
       "      <td>769</td>\n",
       "      <td>234</td>\n",
       "      <td>25</td>\n",
       "      <td>Multiple</td>\n",
       "      <td>20</td>\n",
       "    </tr>\n",
       "    <tr>\n",
       "      <th>39</th>\n",
       "      <td>40</td>\n",
       "      <td>62.0</td>\n",
       "      <td>27.6</td>\n",
       "      <td>2.31</td>\n",
       "      <td>1.43</td>\n",
       "      <td>860</td>\n",
       "      <td>238</td>\n",
       "      <td>25</td>\n",
       "      <td>Multiple</td>\n",
       "      <td>20</td>\n",
       "    </tr>\n",
       "    <tr>\n",
       "      <th>40</th>\n",
       "      <td>41</td>\n",
       "      <td>81.7</td>\n",
       "      <td>26.9</td>\n",
       "      <td>2.29</td>\n",
       "      <td>1.03</td>\n",
       "      <td>958</td>\n",
       "      <td>272</td>\n",
       "      <td>34</td>\n",
       "      <td>Multiple</td>\n",
       "      <td>30</td>\n",
       "    </tr>\n",
       "    <tr>\n",
       "      <th>41</th>\n",
       "      <td>42</td>\n",
       "      <td>80.0</td>\n",
       "      <td>16.0</td>\n",
       "      <td>1.39</td>\n",
       "      <td>0.42</td>\n",
       "      <td>785</td>\n",
       "      <td>173</td>\n",
       "      <td>37</td>\n",
       "      <td>Multiple</td>\n",
       "      <td>30</td>\n",
       "    </tr>\n",
       "  </tbody>\n",
       "</table>\n",
       "</div>"
      ],
      "text/plain": [
       "    subject_id  Cmax_mean  Cmax_sd  Tmax_mean  Tmax_sd  AUC_mean  AUC_sd  \\\n",
       "0            1       32.3     11.4       1.65     0.70       345     103   \n",
       "1            2       32.5      9.7       1.50     0.60       281      83   \n",
       "2            3       31.6     12.8       1.82     0.71       216      46   \n",
       "3            4       42.5     16.3       1.20     0.30       362      66   \n",
       "4            5       40.6     13.8       1.45     0.73       486     161   \n",
       "5            6       32.1      8.1       1.67     0.65       355     199   \n",
       "6            7       48.4     20.1       1.59     0.74       647     294   \n",
       "7            8       67.7     20.6       1.04     0.10       459     136   \n",
       "8            9       74.4     23.5       1.41     0.74       614     177   \n",
       "9           10       56.1     13.9       1.42     0.56       562     134   \n",
       "10          11       74.5     37.8       1.53     0.78       570     137   \n",
       "11          12      113.0     55.8       1.21     0.40       808     285   \n",
       "12          13       42.0      8.2       1.58     0.68       445      94   \n",
       "13          14       24.7      6.9       1.80     0.80       397     218   \n",
       "14          15       36.9     11.3       1.72     1.00       673     248   \n",
       "15          16       45.6     20.2       2.03     1.64       770     270   \n",
       "16          17       88.8     38.7       2.09     1.84       950     298   \n",
       "17          18       34.2     13.4       1.54     0.51       294     100   \n",
       "18          19       39.0     12.0       2.20     1.50       409     116   \n",
       "19          20       41.8      7.7       1.47     0.75       252      48   \n",
       "20          21       30.6      7.8       2.02     1.11       282      51   \n",
       "21          22       45.9     24.3       1.33     0.43       386     170   \n",
       "22          23       51.6     29.4       2.41     1.66       693     357   \n",
       "23          24       84.2     36.5       1.62     0.82       618     205   \n",
       "24          25       76.0     33.0       1.99     1.65       589     142   \n",
       "25          26       80.0     24.0       2.60     1.40       900     254   \n",
       "26          27       55.0      8.9       2.96     1.24       630     160   \n",
       "27          28       80.4     18.5       1.10     0.30       706     235   \n",
       "28          29       62.5     15.8       2.10     1.08       635     196   \n",
       "29          30       89.0     21.0       1.36     0.39       761     140   \n",
       "30          31       63.8     16.8       2.08     0.93       553      96   \n",
       "31          32      118.3     47.3       1.33     0.85       908     308   \n",
       "32          33      113.0     29.0       2.90     1.80      1350     353   \n",
       "33          34      102.1     37.5       1.79     1.03       786     176   \n",
       "34          35      141.2     40.6       1.06     0.24      1135     247   \n",
       "35          36      158.0     41.0       2.70     1.60      1793     447   \n",
       "36          37      181.0     44.0       3.10     1.70      2149     476   \n",
       "37          38      227.5     31.1       1.67     0.58      1797     446   \n",
       "38          39       59.9     21.4       2.33     1.62       769     234   \n",
       "39          40       62.0     27.6       2.31     1.43       860     238   \n",
       "40          41       81.7     26.9       2.29     1.03       958     272   \n",
       "41          42       80.0     16.0       1.39     0.42       785     173   \n",
       "\n",
       "    reference    dosing  dose  \n",
       "0          20    Single    15  \n",
       "1          21    Single    15  \n",
       "2          22    Single    15  \n",
       "3          23    Single    15  \n",
       "4          24    Single    15  \n",
       "5          25    Single    20  \n",
       "6          25    Single    20  \n",
       "7          26    Single    30  \n",
       "8          27    Single    30  \n",
       "9          28    Single    30  \n",
       "10         29    Single    30  \n",
       "11         26    Single    45  \n",
       "12         21    Single    15  \n",
       "13         23    Single    15  \n",
       "14         25    Single    20  \n",
       "15         25    Single    20  \n",
       "16         29    Single    30  \n",
       "17         30  Multiple    15  \n",
       "18         31  Multiple    15  \n",
       "19         22  Multiple    15  \n",
       "20         32  Multiple    15  \n",
       "21         25  Multiple    20  \n",
       "22         25  Multiple    20  \n",
       "23         30  Multiple    30  \n",
       "24         33  Multiple    30  \n",
       "25         31  Multiple    30  \n",
       "26         34  Multiple    30  \n",
       "27         35  Multiple    30  \n",
       "28         36  Multiple    30  \n",
       "29         37  Multiple    30  \n",
       "30         32  Multiple    30  \n",
       "31         30  Multiple    45  \n",
       "32         31  Multiple    45  \n",
       "33         32  Multiple    45  \n",
       "34         30  Multiple    60  \n",
       "35         31  Multiple    60  \n",
       "36         31  Multiple    75  \n",
       "37         30  Multiple    80  \n",
       "38         25  Multiple    20  \n",
       "39         25  Multiple    20  \n",
       "40         34  Multiple    30  \n",
       "41         37  Multiple    30  "
      ]
     },
     "execution_count": 5,
     "metadata": {},
     "output_type": "execute_result"
    }
   ],
   "source": [
    "df_pk_paras = pd.DataFrame(list_of_pk_paras, columns = ['subject_id','Cmax_mean','Cmax_sd','Tmax_mean','Tmax_sd',\n",
    "                                                        'AUC_mean','AUC_sd','reference','dosing', 'dose'])\n",
    "df_pk_paras"
   ]
  },
  {
   "cell_type": "markdown",
   "metadata": {},
   "source": [
    "#### Setup skpk Model instance"
   ]
  },
  {
   "cell_type": "code",
   "execution_count": 6,
   "metadata": {
    "scrolled": true
   },
   "outputs": [
    {
     "name": "stdout",
     "output_type": "stream",
     "text": [
      "0-Absorption (GI Tract) compartment successfully generated\n",
      "1-Central compartment successfully generated\n",
      "2-Peripheral compartment successfully generated\n",
      "3-External / Elimination compartment successfully generated\n",
      " Model named PK Model - Mirtazapine successfully generated\n"
     ]
    }
   ],
   "source": [
    "C0 = skpk.Cmt(0, 'Absorption (GI Tract)')\n",
    "C1 = skpk.Cmt(1, 'Central')\n",
    "C2 = skpk.Cmt(2, 'Peripheral')\n",
    "C3 = skpk.Cmt(3, 'External / Elimination')\n",
    "pk_model = skpk.Model('PK Model - Mirtazapine')"
   ]
  },
  {
   "cell_type": "markdown",
   "metadata": {},
   "source": [
    "#### Read in trajectory data"
   ]
  },
  {
   "cell_type": "code",
   "execution_count": 7,
   "metadata": {},
   "outputs": [],
   "source": [
    "# Reading pickle file (stored trajectory data) generated from Python DE earlier\n",
    "with open('trajectory_data_python_v1.pkl', 'rb') as handle:\n",
    "    raw_trajectory_data = pickle.load(handle)"
   ]
  },
  {
   "cell_type": "code",
   "execution_count": 8,
   "metadata": {
    "scrolled": true
   },
   "outputs": [
    {
     "data": {
      "text/plain": [
       "[{1: <zip at 0x2568cd5fe88>},\n",
       " {2: <zip at 0x2568cd5f9c8>},\n",
       " {3: <zip at 0x2568cd5f748>},\n",
       " {4: <zip at 0x2568cd5f3c8>},\n",
       " {5: <zip at 0x256895ae108>},\n",
       " {6: <zip at 0x2568c3a8208>},\n",
       " {7: <zip at 0x2568cd31b08>},\n",
       " {8: <zip at 0x2568cd31fc8>},\n",
       " {9: <zip at 0x2568cd7af88>},\n",
       " {10: <zip at 0x2568cd7a688>},\n",
       " {11: <zip at 0x2568cd7aa48>},\n",
       " {12: <zip at 0x2568cd7a188>},\n",
       " {13: <zip at 0x2568cd7a388>},\n",
       " {14: <zip at 0x2568cd56648>},\n",
       " {15: <zip at 0x2568cd56c08>},\n",
       " {16: <zip at 0x2568cd56988>},\n",
       " {17: <zip at 0x2568cd56708>},\n",
       " {18: <zip at 0x2568cd46c88>},\n",
       " {19: <zip at 0x2568cd56148>},\n",
       " {20: <zip at 0x2568cd56fc8>},\n",
       " {21: <zip at 0x2568cd5bac8>},\n",
       " {22: <zip at 0x2568cd3f848>},\n",
       " {23: <zip at 0x2568cd47048>},\n",
       " {24: <zip at 0x2568cd880c8>},\n",
       " {25: <zip at 0x2568cd86288>},\n",
       " {26: <zip at 0x2568cd5b848>},\n",
       " {27: <zip at 0x2568cd5b648>},\n",
       " {28: <zip at 0x2568cd5b0c8>},\n",
       " {29: <zip at 0x2568cd5b308>},\n",
       " {30: <zip at 0x2568cd5b988>},\n",
       " {31: <zip at 0x2568cd59608>},\n",
       " {32: <zip at 0x2568cd59448>},\n",
       " {33: <zip at 0x2568cd59548>},\n",
       " {34: <zip at 0x2568cd59f08>},\n",
       " {35: <zip at 0x2568cd59ec8>},\n",
       " {36: <zip at 0x2568cd59948>},\n",
       " {37: <zip at 0x2568cd8fb88>},\n",
       " {38: <zip at 0x2568cd8fac8>},\n",
       " {39: <zip at 0x2568cd5da08>},\n",
       " {40: <zip at 0x2568cd5dc88>},\n",
       " {41: <zip at 0x2568cd5d548>},\n",
       " {42: <zip at 0x2568cd5d188>}]"
      ]
     },
     "execution_count": 8,
     "metadata": {},
     "output_type": "execute_result"
    }
   ],
   "source": [
    "trajectories = list(raw_trajectory_data)\n",
    "trajectories"
   ]
  },
  {
   "cell_type": "code",
   "execution_count": 9,
   "metadata": {},
   "outputs": [],
   "source": [
    "# Unpacking the concentration time trajectory data for each subject\n",
    "list_subject_data = []\n",
    "\n",
    "for i in range(1,len(trajectories)+1):\n",
    "    data = trajectories[i-1][i]\n",
    "    time_x, conc_y = zip(*data)\n",
    "    subject_df = pd.DataFrame({'time':time_x,\n",
    "                                'conc':conc_y})\n",
    "    list_subject_data.append(subject_df)"
   ]
  },
  {
   "cell_type": "code",
   "execution_count": 10,
   "metadata": {
    "scrolled": true
   },
   "outputs": [
    {
     "data": {
      "text/html": [
       "<div>\n",
       "<style scoped>\n",
       "    .dataframe tbody tr th:only-of-type {\n",
       "        vertical-align: middle;\n",
       "    }\n",
       "\n",
       "    .dataframe tbody tr th {\n",
       "        vertical-align: top;\n",
       "    }\n",
       "\n",
       "    .dataframe thead th {\n",
       "        text-align: right;\n",
       "    }\n",
       "</style>\n",
       "<table border=\"1\" class=\"dataframe\">\n",
       "  <thead>\n",
       "    <tr style=\"text-align: right;\">\n",
       "      <th></th>\n",
       "      <th>time</th>\n",
       "      <th>conc</th>\n",
       "    </tr>\n",
       "  </thead>\n",
       "  <tbody>\n",
       "    <tr>\n",
       "      <th>0</th>\n",
       "      <td>0.00</td>\n",
       "      <td>0.000000</td>\n",
       "    </tr>\n",
       "    <tr>\n",
       "      <th>1</th>\n",
       "      <td>0.03</td>\n",
       "      <td>7.911438</td>\n",
       "    </tr>\n",
       "    <tr>\n",
       "      <th>2</th>\n",
       "      <td>0.07</td>\n",
       "      <td>9.959780</td>\n",
       "    </tr>\n",
       "    <tr>\n",
       "      <th>3</th>\n",
       "      <td>0.10</td>\n",
       "      <td>11.303240</td>\n",
       "    </tr>\n",
       "    <tr>\n",
       "      <th>4</th>\n",
       "      <td>0.13</td>\n",
       "      <td>12.575035</td>\n",
       "    </tr>\n",
       "    <tr>\n",
       "      <th>5</th>\n",
       "      <td>0.17</td>\n",
       "      <td>14.198751</td>\n",
       "    </tr>\n",
       "    <tr>\n",
       "      <th>6</th>\n",
       "      <td>0.20</td>\n",
       "      <td>15.338160</td>\n",
       "    </tr>\n",
       "    <tr>\n",
       "      <th>7</th>\n",
       "      <td>0.23</td>\n",
       "      <td>16.414361</td>\n",
       "    </tr>\n",
       "    <tr>\n",
       "      <th>8</th>\n",
       "      <td>0.27</td>\n",
       "      <td>17.735103</td>\n",
       "    </tr>\n",
       "    <tr>\n",
       "      <th>9</th>\n",
       "      <td>0.30</td>\n",
       "      <td>18.708294</td>\n",
       "    </tr>\n",
       "    <tr>\n",
       "      <th>10</th>\n",
       "      <td>0.33</td>\n",
       "      <td>19.621946</td>\n",
       "    </tr>\n",
       "    <tr>\n",
       "      <th>11</th>\n",
       "      <td>0.37</td>\n",
       "      <td>20.713858</td>\n",
       "    </tr>\n",
       "    <tr>\n",
       "      <th>12</th>\n",
       "      <td>0.40</td>\n",
       "      <td>21.506307</td>\n",
       "    </tr>\n",
       "    <tr>\n",
       "      <th>13</th>\n",
       "      <td>0.43</td>\n",
       "      <td>22.287411</td>\n",
       "    </tr>\n",
       "    <tr>\n",
       "      <th>14</th>\n",
       "      <td>0.47</td>\n",
       "      <td>23.227597</td>\n",
       "    </tr>\n",
       "    <tr>\n",
       "      <th>15</th>\n",
       "      <td>0.50</td>\n",
       "      <td>23.876118</td>\n",
       "    </tr>\n",
       "    <tr>\n",
       "      <th>16</th>\n",
       "      <td>0.53</td>\n",
       "      <td>24.490446</td>\n",
       "    </tr>\n",
       "    <tr>\n",
       "      <th>17</th>\n",
       "      <td>0.57</td>\n",
       "      <td>25.325619</td>\n",
       "    </tr>\n",
       "    <tr>\n",
       "      <th>18</th>\n",
       "      <td>0.60</td>\n",
       "      <td>25.857217</td>\n",
       "    </tr>\n",
       "    <tr>\n",
       "      <th>19</th>\n",
       "      <td>0.63</td>\n",
       "      <td>26.361040</td>\n",
       "    </tr>\n",
       "    <tr>\n",
       "      <th>20</th>\n",
       "      <td>0.67</td>\n",
       "      <td>27.056337</td>\n",
       "    </tr>\n",
       "    <tr>\n",
       "      <th>21</th>\n",
       "      <td>0.70</td>\n",
       "      <td>27.503108</td>\n",
       "    </tr>\n",
       "    <tr>\n",
       "      <th>22</th>\n",
       "      <td>0.73</td>\n",
       "      <td>27.907435</td>\n",
       "    </tr>\n",
       "    <tr>\n",
       "      <th>23</th>\n",
       "      <td>0.77</td>\n",
       "      <td>28.452116</td>\n",
       "    </tr>\n",
       "    <tr>\n",
       "      <th>24</th>\n",
       "      <td>0.80</td>\n",
       "      <td>28.839963</td>\n",
       "    </tr>\n",
       "    <tr>\n",
       "      <th>25</th>\n",
       "      <td>0.83</td>\n",
       "      <td>29.185897</td>\n",
       "    </tr>\n",
       "    <tr>\n",
       "      <th>26</th>\n",
       "      <td>0.87</td>\n",
       "      <td>29.565012</td>\n",
       "    </tr>\n",
       "    <tr>\n",
       "      <th>27</th>\n",
       "      <td>0.90</td>\n",
       "      <td>29.893602</td>\n",
       "    </tr>\n",
       "    <tr>\n",
       "      <th>28</th>\n",
       "      <td>0.93</td>\n",
       "      <td>30.195548</td>\n",
       "    </tr>\n",
       "    <tr>\n",
       "      <th>29</th>\n",
       "      <td>0.97</td>\n",
       "      <td>30.480495</td>\n",
       "    </tr>\n",
       "    <tr>\n",
       "      <th>30</th>\n",
       "      <td>1.00</td>\n",
       "      <td>30.709625</td>\n",
       "    </tr>\n",
       "    <tr>\n",
       "      <th>31</th>\n",
       "      <td>1.03</td>\n",
       "      <td>30.970308</td>\n",
       "    </tr>\n",
       "    <tr>\n",
       "      <th>32</th>\n",
       "      <td>1.07</td>\n",
       "      <td>31.237515</td>\n",
       "    </tr>\n",
       "    <tr>\n",
       "      <th>33</th>\n",
       "      <td>1.10</td>\n",
       "      <td>31.400380</td>\n",
       "    </tr>\n",
       "    <tr>\n",
       "      <th>34</th>\n",
       "      <td>1.13</td>\n",
       "      <td>31.546170</td>\n",
       "    </tr>\n",
       "    <tr>\n",
       "      <th>35</th>\n",
       "      <td>1.17</td>\n",
       "      <td>31.813478</td>\n",
       "    </tr>\n",
       "    <tr>\n",
       "      <th>36</th>\n",
       "      <td>1.20</td>\n",
       "      <td>31.943531</td>\n",
       "    </tr>\n",
       "    <tr>\n",
       "      <th>37</th>\n",
       "      <td>1.23</td>\n",
       "      <td>32.053505</td>\n",
       "    </tr>\n",
       "    <tr>\n",
       "      <th>38</th>\n",
       "      <td>1.27</td>\n",
       "      <td>32.239975</td>\n",
       "    </tr>\n",
       "    <tr>\n",
       "      <th>39</th>\n",
       "      <td>1.30</td>\n",
       "      <td>32.348363</td>\n",
       "    </tr>\n",
       "    <tr>\n",
       "      <th>40</th>\n",
       "      <td>1.33</td>\n",
       "      <td>32.444220</td>\n",
       "    </tr>\n",
       "    <tr>\n",
       "      <th>41</th>\n",
       "      <td>1.37</td>\n",
       "      <td>32.532838</td>\n",
       "    </tr>\n",
       "    <tr>\n",
       "      <th>42</th>\n",
       "      <td>1.40</td>\n",
       "      <td>32.630134</td>\n",
       "    </tr>\n",
       "    <tr>\n",
       "      <th>43</th>\n",
       "      <td>1.43</td>\n",
       "      <td>32.713475</td>\n",
       "    </tr>\n",
       "    <tr>\n",
       "      <th>44</th>\n",
       "      <td>1.47</td>\n",
       "      <td>32.715413</td>\n",
       "    </tr>\n",
       "    <tr>\n",
       "      <th>45</th>\n",
       "      <td>1.50</td>\n",
       "      <td>32.795985</td>\n",
       "    </tr>\n",
       "    <tr>\n",
       "      <th>46</th>\n",
       "      <td>1.53</td>\n",
       "      <td>32.859701</td>\n",
       "    </tr>\n",
       "    <tr>\n",
       "      <th>47</th>\n",
       "      <td>1.57</td>\n",
       "      <td>32.840468</td>\n",
       "    </tr>\n",
       "    <tr>\n",
       "      <th>48</th>\n",
       "      <td>1.60</td>\n",
       "      <td>32.871107</td>\n",
       "    </tr>\n",
       "    <tr>\n",
       "      <th>49</th>\n",
       "      <td>1.63</td>\n",
       "      <td>32.904362</td>\n",
       "    </tr>\n",
       "    <tr>\n",
       "      <th>50</th>\n",
       "      <td>1.67</td>\n",
       "      <td>32.914218</td>\n",
       "    </tr>\n",
       "    <tr>\n",
       "      <th>51</th>\n",
       "      <td>1.70</td>\n",
       "      <td>32.892599</td>\n",
       "    </tr>\n",
       "    <tr>\n",
       "      <th>52</th>\n",
       "      <td>1.73</td>\n",
       "      <td>32.883336</td>\n",
       "    </tr>\n",
       "    <tr>\n",
       "      <th>53</th>\n",
       "      <td>1.77</td>\n",
       "      <td>32.912974</td>\n",
       "    </tr>\n",
       "    <tr>\n",
       "      <th>54</th>\n",
       "      <td>1.80</td>\n",
       "      <td>32.877445</td>\n",
       "    </tr>\n",
       "    <tr>\n",
       "      <th>55</th>\n",
       "      <td>1.83</td>\n",
       "      <td>32.838688</td>\n",
       "    </tr>\n",
       "    <tr>\n",
       "      <th>56</th>\n",
       "      <td>1.87</td>\n",
       "      <td>32.832608</td>\n",
       "    </tr>\n",
       "    <tr>\n",
       "      <th>57</th>\n",
       "      <td>1.90</td>\n",
       "      <td>32.808759</td>\n",
       "    </tr>\n",
       "    <tr>\n",
       "      <th>58</th>\n",
       "      <td>1.93</td>\n",
       "      <td>32.764972</td>\n",
       "    </tr>\n",
       "    <tr>\n",
       "      <th>59</th>\n",
       "      <td>1.97</td>\n",
       "      <td>32.691488</td>\n",
       "    </tr>\n",
       "  </tbody>\n",
       "</table>\n",
       "</div>"
      ],
      "text/plain": [
       "    time       conc\n",
       "0   0.00   0.000000\n",
       "1   0.03   7.911438\n",
       "2   0.07   9.959780\n",
       "3   0.10  11.303240\n",
       "4   0.13  12.575035\n",
       "5   0.17  14.198751\n",
       "6   0.20  15.338160\n",
       "7   0.23  16.414361\n",
       "8   0.27  17.735103\n",
       "9   0.30  18.708294\n",
       "10  0.33  19.621946\n",
       "11  0.37  20.713858\n",
       "12  0.40  21.506307\n",
       "13  0.43  22.287411\n",
       "14  0.47  23.227597\n",
       "15  0.50  23.876118\n",
       "16  0.53  24.490446\n",
       "17  0.57  25.325619\n",
       "18  0.60  25.857217\n",
       "19  0.63  26.361040\n",
       "20  0.67  27.056337\n",
       "21  0.70  27.503108\n",
       "22  0.73  27.907435\n",
       "23  0.77  28.452116\n",
       "24  0.80  28.839963\n",
       "25  0.83  29.185897\n",
       "26  0.87  29.565012\n",
       "27  0.90  29.893602\n",
       "28  0.93  30.195548\n",
       "29  0.97  30.480495\n",
       "30  1.00  30.709625\n",
       "31  1.03  30.970308\n",
       "32  1.07  31.237515\n",
       "33  1.10  31.400380\n",
       "34  1.13  31.546170\n",
       "35  1.17  31.813478\n",
       "36  1.20  31.943531\n",
       "37  1.23  32.053505\n",
       "38  1.27  32.239975\n",
       "39  1.30  32.348363\n",
       "40  1.33  32.444220\n",
       "41  1.37  32.532838\n",
       "42  1.40  32.630134\n",
       "43  1.43  32.713475\n",
       "44  1.47  32.715413\n",
       "45  1.50  32.795985\n",
       "46  1.53  32.859701\n",
       "47  1.57  32.840468\n",
       "48  1.60  32.871107\n",
       "49  1.63  32.904362\n",
       "50  1.67  32.914218\n",
       "51  1.70  32.892599\n",
       "52  1.73  32.883336\n",
       "53  1.77  32.912974\n",
       "54  1.80  32.877445\n",
       "55  1.83  32.838688\n",
       "56  1.87  32.832608\n",
       "57  1.90  32.808759\n",
       "58  1.93  32.764972\n",
       "59  1.97  32.691488"
      ]
     },
     "execution_count": 10,
     "metadata": {},
     "output_type": "execute_result"
    }
   ],
   "source": [
    "list_subject_data[0].head(60)"
   ]
  },
  {
   "cell_type": "code",
   "execution_count": 11,
   "metadata": {},
   "outputs": [],
   "source": [
    "# Obtain 18 sample points from each trajectory\n",
    "sampling_timepoints = [0.00, 0.23, 0.50, 0.77, 1.00, \n",
    "                       1.23, 1.50, 1.83, 2.00, 3.00, \n",
    "                       4.00, 6.00, 8.00, 11.01, 15.01, \n",
    "                       20.01, 24.01, 36.02]"
   ]
  },
  {
   "cell_type": "markdown",
   "metadata": {},
   "source": [
    "#### Generate sample data points from trajectory data"
   ]
  },
  {
   "cell_type": "code",
   "execution_count": 12,
   "metadata": {},
   "outputs": [],
   "source": [
    "list_of_samples = []\n",
    "\n",
    "for df in list_subject_data:\n",
    "    sample_df = df.loc[df['time'].isin(sampling_timepoints)]\n",
    "    sample_df.reset_index(drop=True, inplace=True)\n",
    "    list_of_samples.append(sample_df)"
   ]
  },
  {
   "cell_type": "code",
   "execution_count": 13,
   "metadata": {
    "scrolled": true
   },
   "outputs": [
    {
     "data": {
      "text/html": [
       "<div>\n",
       "<style scoped>\n",
       "    .dataframe tbody tr th:only-of-type {\n",
       "        vertical-align: middle;\n",
       "    }\n",
       "\n",
       "    .dataframe tbody tr th {\n",
       "        vertical-align: top;\n",
       "    }\n",
       "\n",
       "    .dataframe thead th {\n",
       "        text-align: right;\n",
       "    }\n",
       "</style>\n",
       "<table border=\"1\" class=\"dataframe\">\n",
       "  <thead>\n",
       "    <tr style=\"text-align: right;\">\n",
       "      <th></th>\n",
       "      <th>time</th>\n",
       "      <th>conc</th>\n",
       "    </tr>\n",
       "  </thead>\n",
       "  <tbody>\n",
       "    <tr>\n",
       "      <th>0</th>\n",
       "      <td>0.00</td>\n",
       "      <td>0.000000</td>\n",
       "    </tr>\n",
       "    <tr>\n",
       "      <th>1</th>\n",
       "      <td>0.23</td>\n",
       "      <td>19.909697</td>\n",
       "    </tr>\n",
       "    <tr>\n",
       "      <th>2</th>\n",
       "      <td>0.50</td>\n",
       "      <td>24.157950</td>\n",
       "    </tr>\n",
       "    <tr>\n",
       "      <th>3</th>\n",
       "      <td>0.77</td>\n",
       "      <td>27.190423</td>\n",
       "    </tr>\n",
       "    <tr>\n",
       "      <th>4</th>\n",
       "      <td>1.00</td>\n",
       "      <td>29.106653</td>\n",
       "    </tr>\n",
       "    <tr>\n",
       "      <th>5</th>\n",
       "      <td>1.23</td>\n",
       "      <td>30.372336</td>\n",
       "    </tr>\n",
       "    <tr>\n",
       "      <th>6</th>\n",
       "      <td>1.50</td>\n",
       "      <td>31.197108</td>\n",
       "    </tr>\n",
       "    <tr>\n",
       "      <th>7</th>\n",
       "      <td>1.83</td>\n",
       "      <td>31.600773</td>\n",
       "    </tr>\n",
       "    <tr>\n",
       "      <th>8</th>\n",
       "      <td>2.00</td>\n",
       "      <td>31.492007</td>\n",
       "    </tr>\n",
       "    <tr>\n",
       "      <th>9</th>\n",
       "      <td>3.00</td>\n",
       "      <td>28.993017</td>\n",
       "    </tr>\n",
       "    <tr>\n",
       "      <th>10</th>\n",
       "      <td>4.00</td>\n",
       "      <td>24.760583</td>\n",
       "    </tr>\n",
       "    <tr>\n",
       "      <th>11</th>\n",
       "      <td>6.00</td>\n",
       "      <td>16.219829</td>\n",
       "    </tr>\n",
       "    <tr>\n",
       "      <th>12</th>\n",
       "      <td>8.00</td>\n",
       "      <td>9.949926</td>\n",
       "    </tr>\n",
       "    <tr>\n",
       "      <th>13</th>\n",
       "      <td>11.01</td>\n",
       "      <td>4.543009</td>\n",
       "    </tr>\n",
       "    <tr>\n",
       "      <th>14</th>\n",
       "      <td>15.01</td>\n",
       "      <td>1.554766</td>\n",
       "    </tr>\n",
       "    <tr>\n",
       "      <th>15</th>\n",
       "      <td>20.01</td>\n",
       "      <td>0.402754</td>\n",
       "    </tr>\n",
       "    <tr>\n",
       "      <th>16</th>\n",
       "      <td>24.01</td>\n",
       "      <td>0.136239</td>\n",
       "    </tr>\n",
       "    <tr>\n",
       "      <th>17</th>\n",
       "      <td>36.02</td>\n",
       "      <td>0.005238</td>\n",
       "    </tr>\n",
       "  </tbody>\n",
       "</table>\n",
       "</div>"
      ],
      "text/plain": [
       "     time       conc\n",
       "0    0.00   0.000000\n",
       "1    0.23  19.909697\n",
       "2    0.50  24.157950\n",
       "3    0.77  27.190423\n",
       "4    1.00  29.106653\n",
       "5    1.23  30.372336\n",
       "6    1.50  31.197108\n",
       "7    1.83  31.600773\n",
       "8    2.00  31.492007\n",
       "9    3.00  28.993017\n",
       "10   4.00  24.760583\n",
       "11   6.00  16.219829\n",
       "12   8.00   9.949926\n",
       "13  11.01   4.543009\n",
       "14  15.01   1.554766\n",
       "15  20.01   0.402754\n",
       "16  24.01   0.136239\n",
       "17  36.02   0.005238"
      ]
     },
     "execution_count": 13,
     "metadata": {},
     "output_type": "execute_result"
    }
   ],
   "source": [
    "list_of_samples[2]"
   ]
  },
  {
   "cell_type": "markdown",
   "metadata": {},
   "source": [
    "#### Setup PK model"
   ]
  },
  {
   "cell_type": "code",
   "execution_count": 14,
   "metadata": {},
   "outputs": [
    {
     "name": "stdout",
     "output_type": "stream",
     "text": [
      "0-Absorption (GI Tract) compartment successfully generated\n",
      "1-Central compartment successfully generated\n",
      "2-Peripheral compartment successfully generated\n",
      "3-External / Elimination compartment successfully generated\n",
      " Model named PK Model - Mirtazapine successfully generated\n"
     ]
    }
   ],
   "source": [
    "# Instantiate the 3 relevant compartment instances of the 2-compartment model\n",
    "C0 = skpk.Cmt(0, 'Absorption (GI Tract)')\n",
    "C1 = skpk.Cmt(1, 'Central')\n",
    "C2 = skpk.Cmt(2, 'Peripheral')\n",
    "C3 = skpk.Cmt(3, 'External / Elimination')\n",
    "\n",
    "pkmodel = skpk.Model('PK Model - Mirtazapine')\n",
    "pkmodel.add_cmt([C0, C1, C2, C3])"
   ]
  },
  {
   "cell_type": "markdown",
   "metadata": {},
   "source": [
    "#### Functions for optimization"
   ]
  },
  {
   "cell_type": "code",
   "execution_count": 15,
   "metadata": {},
   "outputs": [],
   "source": [
    "# Pre-defined parameters\n",
    "F = 0.497 # Bioavailability\n",
    "n = 3 # Number of compartments (+1 for GI tract compartment for oral route)\n",
    "\n",
    "period_start = 0\n",
    "period_end = 72\n",
    "intervals = 2160\n",
    "time_horizon = np.around(np.linspace(period_start, period_end, intervals), decimals=2)"
   ]
  },
  {
   "cell_type": "code",
   "execution_count": 16,
   "metadata": {},
   "outputs": [],
   "source": [
    "# Define dcdt function of ODE (dot multiplication of coefficient matrix and concentration)\n",
    "def dC(t,C,A):\n",
    "   \n",
    "    # Dot multiplication of A coefficient matrix (n x n) with concentration vector C (n x 1) \n",
    "    dCdt = np.dot(A, C)\n",
    "    \n",
    "    # Returns dCdt as n x 1 vector (dC0/dt, dC1/dt, dC2/dt)\n",
    "    return dCdt"
   ]
  },
  {
   "cell_type": "code",
   "execution_count": 17,
   "metadata": {},
   "outputs": [],
   "source": [
    "# Create function that generates coefficient matrix and runs solve_ivp\n",
    "def ode_solver(p, subject_id):\n",
    "    \n",
    "    ka, k12, k21, ke = p    \n",
    "       \n",
    "    # Add links based on parameters (p) passed as arguments\n",
    "    pk_model.add_link([(C0, C1, ka), (C1, C2, k12), (C2, C1, k21), (C1, C3, ke)])\n",
    "    full_matrix = pk_model.get_matrix()\n",
    "    \n",
    "    # Ignoring elimination compartment (C3), so we truncate matrix size by 1 to form coefficient matrix (n is exclusive)\n",
    "    A_matrix = full_matrix[0:n,0:n]\n",
    "\n",
    "    # Initial concentration\n",
    "    dose_mg = df_pk_paras[df_pk_paras.subject_id == 1]['dose'][0]\n",
    "    \n",
    "    # Convert dose from mg to ug\n",
    "    dose_ug = dose_mg * 1000\n",
    "    \n",
    "    C_initial = np.zeros(n)\n",
    "    C_initial[0] = dose_ug * F # C0 in GI tract compartment, and taking bioavailability into account\n",
    "    \n",
    "    # Reshaping C_initial into 1 dimension to pass into solve_ivp\n",
    "    C_initial_1dim = C_initial.reshape(n,)\n",
    "\n",
    "    # Solving ODE\n",
    "    output = solve_ivp(fun=dC, t_span=[period_start, period_end], y0 = C_initial_1dim, t_eval = time_horizon, args=(A_matrix,))\n",
    "    \n",
    "    return output"
   ]
  },
  {
   "cell_type": "code",
   "execution_count": 18,
   "metadata": {},
   "outputs": [],
   "source": [
    "# Objective function (for optimization using sampled data points)\n",
    "def objective_func_sample_data(p, subject_id):\n",
    "    \n",
    "    # Obtaining ODE output after solving\n",
    "    output = ode_solver(p, subject_id)\n",
    "\n",
    "    # Get ODE-predicted plasma concentration of central compartment\n",
    "    sample_df = list_of_samples[subject_id - 1]\n",
    "    output_dict = dict(zip(output.t, output.y[1])) # Combining time (x-axis) with conc (y-axis) together as dict\n",
    "    t_sample = sample_df['time'].values\n",
    "    y_pred = [output_dict[x] for x in t_sample] # Obtaining predicted conc values based on time intervals from sample data\n",
    "    y_actual = sample_df['conc'].values\n",
    "      \n",
    "    # Calculate RMSE\n",
    "    error = y_actual - y_pred\n",
    "    # normalized_error = error / y_actual.max() # Use this if intend to calculate normalized RMSE\n",
    "    squared_error = np.power(error,2)\n",
    "    sum_error = np.sum(squared_error)\n",
    "    mse = sum_error / y_actual.shape[0]\n",
    "    rmse = np.sqrt(mse)\n",
    "    return rmse"
   ]
  },
  {
   "cell_type": "code",
   "execution_count": 19,
   "metadata": {},
   "outputs": [],
   "source": [
    "# Plot best fit from best results (differential evolution)\n",
    "def plot_best_fit(p, subject_id):\n",
    "       \n",
    "    output = ode_solver(p, subject_id)\n",
    "    plt.plot(output.t,output.y[1])\n",
    "    plt.scatter(list_of_samples[subject_id-1]['time'], list_of_samples[subject_id-1]['conc'])"
   ]
  },
  {
   "cell_type": "code",
   "execution_count": 20,
   "metadata": {},
   "outputs": [],
   "source": [
    "bounds = [(0.0, 1.0), (30.0, 90.0), (0.0, 15.0),(0.0, 35.0)]"
   ]
  },
  {
   "cell_type": "code",
   "execution_count": 267,
   "metadata": {},
   "outputs": [
    {
     "name": "stdout",
     "output_type": "stream",
     "text": [
      "1 DE completed in 426.22 seconds\n",
      "[ 0.11857604 87.81349864  8.02013887 21.64401576] 0.06720966770661939\n",
      "2 DE completed in 517.79 seconds\n",
      "[ 0.15626852 41.63411136  3.35413202 26.79836069] 0.11487597738841306\n"
     ]
    }
   ],
   "source": [
    "# Solve for several subjects (Pre-test)\n",
    "de_results = []\n",
    "\n",
    "# Small test\n",
    "for subject_id in range(1, 3):\n",
    "    start = time.perf_counter()\n",
    "    best_result = differential_evolution(objective_func_sample_data, bounds, args = (subject_id,), maxiter = 15)\n",
    "    de_results.append([subject_id, best_result.x, best_result.fun])\n",
    "    finish = time.perf_counter()\n",
    "    print(f'{subject_id} DE completed in {round((finish - start),2)} seconds')\n",
    "    print(best_result.x, best_result.fun)"
   ]
  },
  {
   "cell_type": "code",
   "execution_count": 275,
   "metadata": {
    "scrolled": true
   },
   "outputs": [
    {
     "data": {
      "image/png": "[encoded data removed]",
      "text/plain": [
       "<Figure size 432x288 with 1 Axes>"
      ]
     },
     "metadata": {
      "needs_background": "light"
     },
     "output_type": "display_data"
    }
   ],
   "source": [
    "plot_best_fit(de_results[0][1],1) # Get first row (index 0), and access best k values (p), subject_id)"
   ]
  },
  {
   "cell_type": "code",
   "execution_count": 276,
   "metadata": {
    "scrolled": true
   },
   "outputs": [
    {
     "data": {
      "image/png": "[encoded data removed]",
      "text/plain": [
       "<Figure size 432x288 with 1 Axes>"
      ]
     },
     "metadata": {
      "needs_background": "light"
     },
     "output_type": "display_data"
    }
   ],
   "source": [
    "plot_best_fit(de_results[1][1],2) # Get first row (index 0), and access best k values (p), subject_id)"
   ]
  },
  {
   "cell_type": "code",
   "execution_count": 22,
   "metadata": {
    "scrolled": true
   },
   "outputs": [
    {
     "name": "stdout",
     "output_type": "stream",
     "text": [
      "1 DE completed in 339.0 seconds\n",
      "[ 0.11855455 86.88854404  7.93105446 21.64605987] 0.0736389835268978\n",
      "2 DE completed in 385.14 seconds\n",
      "[ 0.16091617 41.9550426   3.15702188 27.19370003] 0.015310568574437577\n",
      "3 DE completed in 443.37 seconds\n",
      "[ 0.2554712  86.95186462  2.42230065 34.05522235] 0.125844944752329\n",
      "4 DE completed in 411.8 seconds\n",
      "[ 0.14370981 68.78313556 10.49855444 20.57786347] 0.13820824098230708\n",
      "5 DE completed in 374.81 seconds\n",
      "[ 0.09426647 40.24914018 11.85330042 15.22203955] 0.8322269818762066\n",
      "6 DE completed in 922.05 seconds\n",
      "[ 0.11016399 86.32440095  8.4907361  20.97343378] 0.07066738736879913\n",
      "7 DE completed in 357.96 seconds\n",
      "[ 0.08861838 54.74502044 13.52132798 11.68237409] 0.03136800924692328\n",
      "8 DE completed in 328.71 seconds\n",
      "[ 0.18011155 41.53178267  9.76638541 16.25292568] 0.20170077964759722\n",
      "9 DE completed in 365.09 seconds\n",
      "[ 0.60935356 86.69021623  1.68284139 12.99147985] 3.191252688591597\n",
      "10 DE completed in 386.67 seconds\n",
      "[ 0.12066658 43.05487264  8.53496339 13.24183353] 0.12103158749277076\n",
      "11 DE completed in 411.52 seconds\n",
      "[ 0.54082029 85.37666146  1.96486757 14.14280773] 3.1667681773820053\n",
      "12 DE completed in 505.98 seconds\n",
      "[ 0.18191938 40.07207977 12.89195212  9.43458877] 0.8310430328037595\n",
      "13 DE completed in 584.95 seconds\n",
      "[ 0.11604461 66.38337918  9.3160534  16.82875592] 0.19233807390163105\n",
      "14 DE completed in 355.0 seconds\n",
      "[ 0.07078603 66.71276564  8.42533397 18.67451578] 0.14480268636420585\n",
      "15 DE completed in 323.84 seconds\n",
      "[ 0.05454509 39.21594301 11.12127849 10.44128639] 0.08264713909322717\n",
      "16 DE completed in 325.32 seconds\n",
      "[ 0.06600202 41.63908413  8.53284064  9.23873066] 0.3395731473147455\n",
      "17 DE completed in 282.81 seconds\n",
      "[ 0.12562004 30.          5.52120432  7.87088592] 0.32588898887165607\n",
      "18 DE completed in 379.09 seconds\n",
      "[ 0.14887374 88.50752758  7.12346569 25.29786567] 0.12022924544193785\n",
      "19 DE completed in 452.37 seconds\n",
      "[ 0.12762824 90.          6.38324986 18.19845962] 0.0835825506816377\n",
      "20 DE completed in 414.26 seconds\n",
      "[ 0.33248463 60.38670435  1.81372436 29.51556357] 0.024133561774177595\n",
      "21 DE completed in 528.35 seconds\n",
      "[ 0.15662755 82.97343619  3.71569047 27.20342363] 0.42996800840516614\n",
      "22 DE completed in 351.51 seconds\n",
      "[ 0.14525749 71.22123287 10.19902431 19.21321692] 0.09242377126220468\n",
      "23 DE completed in 354.99 seconds\n",
      "[ 0.09434539 61.81257036  7.55922972 10.74593293] 0.3462846547229861\n",
      "24 DE completed in 384.98 seconds\n",
      "[ 0.18488675 86.32961238 12.92727558 11.94164625] 0.3467858832200625\n",
      "25 DE completed in 492.7 seconds\n",
      "[ 0.18954193 79.26344239  7.74711185 12.61284016] 3.128517005588856e-06\n",
      "26 DE completed in 336.15 seconds\n",
      "[ 0.12469626 63.99709525  7.78011996  8.27371877] 0.19563579109439702\n",
      "27 DE completed in 302.86 seconds\n",
      "[ 0.24034711 45.50820428  1.02373895 12.03330395] 0.8593521045894726\n",
      "28 DE completed in 328.19 seconds\n",
      "[ 0.1332136  33.12896472 13.78565834 10.54657486] 0.21598568957019518\n",
      "29 DE completed in 367.25 seconds\n",
      "[ 0.13182478 77.1916171   8.40970325 11.82083559] 0.31362353807978166\n",
      "30 DE completed in 352.8 seconds\n",
      "[ 0.14223716 32.33608874 10.59007851  9.78832687] 7.3178611725858995e-06\n",
      "31 DE completed in 427.46 seconds\n",
      "[ 0.1654654  76.2575207   6.77463154 13.44620255] 0.1096842062351027\n",
      "32 DE completed in 342.92 seconds\n",
      "[ 0.1622083  36.58284499 13.34768107  8.08158359] 0.08414014498388966\n",
      "33 DE completed in 268.57 seconds\n",
      "[ 0.50330223 54.69627017  1.46528859  5.49539468] 0.2813940239265991\n",
      "34 DE completed in 306.28 seconds\n",
      "[ 0.18150598 43.18474192  7.38730143  9.48056673] 0.06528487215136612\n",
      "35 DE completed in 294.63 seconds\n",
      "[ 1.         83.34729975  2.44662093  7.04409937] 6.077302663074773\n",
      "36 DE completed in 485.06 seconds\n",
      "[ 0.13228124 40.82282015  9.27376129  4.1298404 ] 0.8820864048088578\n",
      "37 DE completed in 325.74 seconds\n",
      "[ 0.40501535 67.58382966  3.29775887  3.55983574] 1.0882324991910737\n",
      "38 DE completed in 312.71 seconds\n",
      "[ 0.9047037  79.7818975   4.04039597  4.25607856] 4.954659812467561\n",
      "39 DE completed in 359.2 seconds\n",
      "[ 0.09876567 79.71034925 11.7057032   9.81713449] 0.4284767192804305\n",
      "40 DE completed in 278.52 seconds\n",
      "[ 0.08975514 46.18792802  7.55955304  8.62672587] 0.39957791964281586\n",
      "41 DE completed in 378.52 seconds\n",
      "[ 0.11225747 50.87726311  8.15104549  7.75169039] 0.6878474711938074\n",
      "42 DE completed in 406.06 seconds\n",
      "[ 0.12165203 46.70424864 15.          9.61032748] 0.7467768396461485\n"
     ]
    }
   ],
   "source": [
    "# Run for all 42 subjects\n",
    "de_results = []\n",
    "\n",
    "for subject_id in range(1, len(list_of_samples)+1):\n",
    "    \n",
    "    start = time.perf_counter()\n",
    "    best_result = differential_evolution(objective_func_sample_data, bounds, args = (subject_id,), maxiter = 15)\n",
    "    de_results.append([subject_id, best_result.x, best_result.fun])\n",
    "    \n",
    "    finish = time.perf_counter()\n",
    "    print(f'{subject_id} DE completed in {round((finish - start),2)} seconds')\n",
    "    print(best_result.x, best_result.fun)"
   ]
  },
  {
   "cell_type": "code",
   "execution_count": 23,
   "metadata": {},
   "outputs": [],
   "source": [
    "# Creating dataframe to store results\n",
    "df_de_results = pd.DataFrame(de_results, columns = ['subject_id', 'k_values','error'])"
   ]
  },
  {
   "cell_type": "code",
   "execution_count": 36,
   "metadata": {},
   "outputs": [],
   "source": [
    "ka_values = []\n",
    "k12_values = []\n",
    "k21_values = []\n",
    "ke_values = []\n",
    "\n",
    "for i in range(len(df_de_results)):\n",
    "    ka_values.append(df_de_results['k_values'].values[i][0])\n",
    "    k12_values.append(df_de_results['k_values'].values[i][1])\n",
    "    k21_values.append(df_de_results['k_values'].values[i][2])\n",
    "    ke_values.append(df_de_results['k_values'].values[i][3])\n",
    "    \n",
    "df_de_results['ka'] = ka_values\n",
    "df_de_results['k12'] = k12_values\n",
    "df_de_results['k21'] = k21_values\n",
    "df_de_results['ke'] = ke_values"
   ]
  },
  {
   "cell_type": "code",
   "execution_count": 40,
   "metadata": {
    "scrolled": false
   },
   "outputs": [],
   "source": [
    "# Merge subject attributes and dosing details\n",
    "df_de_results = pd.merge(df_de_results, df_attr, on='subject_id')\n",
    "\n",
    "df_dosing = df_pk_paras[['subject_id', 'dosing', 'dose']]\n",
    "df_de_results = pd.merge(df_de_results, df_dosing, on='subject_id')"
   ]
  },
  {
   "cell_type": "code",
   "execution_count": 41,
   "metadata": {
    "scrolled": true
   },
   "outputs": [
    {
     "data": {
      "text/html": [
       "<div>\n",
       "<style scoped>\n",
       "    .dataframe tbody tr th:only-of-type {\n",
       "        vertical-align: middle;\n",
       "    }\n",
       "\n",
       "    .dataframe tbody tr th {\n",
       "        vertical-align: top;\n",
       "    }\n",
       "\n",
       "    .dataframe thead th {\n",
       "        text-align: right;\n",
       "    }\n",
       "</style>\n",
       "<table border=\"1\" class=\"dataframe\">\n",
       "  <thead>\n",
       "    <tr style=\"text-align: right;\">\n",
       "      <th></th>\n",
       "      <th>subject_id</th>\n",
       "      <th>k_values</th>\n",
       "      <th>ka</th>\n",
       "      <th>k12</th>\n",
       "      <th>k21</th>\n",
       "      <th>ke</th>\n",
       "      <th>error</th>\n",
       "      <th>gender</th>\n",
       "      <th>age_mean</th>\n",
       "      <th>age_sd</th>\n",
       "      <th>dosing</th>\n",
       "      <th>dose</th>\n",
       "    </tr>\n",
       "  </thead>\n",
       "  <tbody>\n",
       "    <tr>\n",
       "      <th>0</th>\n",
       "      <td>1</td>\n",
       "      <td>[0.11855455,86.88854404,7.93105446,21.64605987]</td>\n",
       "      <td>0.118555</td>\n",
       "      <td>86.888544</td>\n",
       "      <td>7.931054</td>\n",
       "      <td>21.646060</td>\n",
       "      <td>0.073639</td>\n",
       "      <td>0</td>\n",
       "      <td>24</td>\n",
       "      <td>4</td>\n",
       "      <td>Single</td>\n",
       "      <td>15</td>\n",
       "    </tr>\n",
       "    <tr>\n",
       "      <th>1</th>\n",
       "      <td>2</td>\n",
       "      <td>[0.16091617,41.9550426,3.15702188,27.19370003]</td>\n",
       "      <td>0.160916</td>\n",
       "      <td>41.955043</td>\n",
       "      <td>3.157022</td>\n",
       "      <td>27.193700</td>\n",
       "      <td>0.015311</td>\n",
       "      <td>0</td>\n",
       "      <td>25</td>\n",
       "      <td>5</td>\n",
       "      <td>Single</td>\n",
       "      <td>15</td>\n",
       "    </tr>\n",
       "    <tr>\n",
       "      <th>2</th>\n",
       "      <td>3</td>\n",
       "      <td>[0.2554712,86.95186462,2.42230065,34.05522235]</td>\n",
       "      <td>0.255471</td>\n",
       "      <td>86.951865</td>\n",
       "      <td>2.422301</td>\n",
       "      <td>34.055222</td>\n",
       "      <td>0.125845</td>\n",
       "      <td>0</td>\n",
       "      <td>25</td>\n",
       "      <td>4</td>\n",
       "      <td>Single</td>\n",
       "      <td>15</td>\n",
       "    </tr>\n",
       "    <tr>\n",
       "      <th>3</th>\n",
       "      <td>4</td>\n",
       "      <td>[0.14370981,68.78313556,10.49855444,20.57786347]</td>\n",
       "      <td>0.143710</td>\n",
       "      <td>68.783136</td>\n",
       "      <td>10.498554</td>\n",
       "      <td>20.577863</td>\n",
       "      <td>0.138208</td>\n",
       "      <td>0</td>\n",
       "      <td>51</td>\n",
       "      <td>8</td>\n",
       "      <td>Single</td>\n",
       "      <td>15</td>\n",
       "    </tr>\n",
       "    <tr>\n",
       "      <th>4</th>\n",
       "      <td>5</td>\n",
       "      <td>[0.09426647,40.24914018,11.85330042,15.22203955]</td>\n",
       "      <td>0.094266</td>\n",
       "      <td>40.249140</td>\n",
       "      <td>11.853300</td>\n",
       "      <td>15.222040</td>\n",
       "      <td>0.832227</td>\n",
       "      <td>0</td>\n",
       "      <td>68</td>\n",
       "      <td>5</td>\n",
       "      <td>Single</td>\n",
       "      <td>15</td>\n",
       "    </tr>\n",
       "  </tbody>\n",
       "</table>\n",
       "</div>"
      ],
      "text/plain": [
       "   subject_id                                          k_values        ka  \\\n",
       "0           1   [0.11855455,86.88854404,7.93105446,21.64605987]  0.118555   \n",
       "1           2    [0.16091617,41.9550426,3.15702188,27.19370003]  0.160916   \n",
       "2           3    [0.2554712,86.95186462,2.42230065,34.05522235]  0.255471   \n",
       "3           4  [0.14370981,68.78313556,10.49855444,20.57786347]  0.143710   \n",
       "4           5  [0.09426647,40.24914018,11.85330042,15.22203955]  0.094266   \n",
       "\n",
       "         k12        k21         ke     error  gender  age_mean  age_sd  \\\n",
       "0  86.888544   7.931054  21.646060  0.073639       0        24       4   \n",
       "1  41.955043   3.157022  27.193700  0.015311       0        25       5   \n",
       "2  86.951865   2.422301  34.055222  0.125845       0        25       4   \n",
       "3  68.783136  10.498554  20.577863  0.138208       0        51       8   \n",
       "4  40.249140  11.853300  15.222040  0.832227       0        68       5   \n",
       "\n",
       "   dosing  dose  \n",
       "0  Single    15  \n",
       "1  Single    15  \n",
       "2  Single    15  \n",
       "3  Single    15  \n",
       "4  Single    15  "
      ]
     },
     "execution_count": 41,
     "metadata": {},
     "output_type": "execute_result"
    }
   ],
   "source": [
    "df_de_results.head()"
   ]
  },
  {
   "cell_type": "code",
   "execution_count": 42,
   "metadata": {},
   "outputs": [],
   "source": [
    "# Export dataframe\n",
    "# df_de_results.to_csv('df_de_results_v2.csv',index=False)"
   ]
  },
  {
   "cell_type": "code",
   "execution_count": 21,
   "metadata": {},
   "outputs": [],
   "source": [
    "# Import dataframe\n",
    "df_de_results = pd.read_csv('df_de_results_v2.csv')"
   ]
  },
  {
   "cell_type": "code",
   "execution_count": 22,
   "metadata": {},
   "outputs": [],
   "source": [
    "list_of_cov = [] # List to store coefficient of variation (CoV) across all the k\n",
    "k_stats = []\n",
    "\n",
    "# Function to display statistics, density plot and histograms, and to store values\n",
    "def show_stats(df, col_name):\n",
    "    ax = df[col_name].plot(kind='hist', secondary_y = True)\n",
    "    df[col_name].plot.density(bw_method=1); # Orange\n",
    "    # df_de_results[col_name].plot.density(); # Green line\n",
    "    mean = df[col_name].describe()['mean']\n",
    "    std = df[col_name].describe()['std']\n",
    "    cov = std / mean\n",
    "    list_of_cov.append([col_name, cov])\n",
    "    k_stats.append([col_name, mean, std])\n",
    "    print(df[col_name].describe())\n",
    "    print('Coefficient of variation = ',cov)"
   ]
  },
  {
   "cell_type": "code",
   "execution_count": 23,
   "metadata": {
    "scrolled": true
   },
   "outputs": [
    {
     "name": "stdout",
     "output_type": "stream",
     "text": [
      "count    42.000000\n",
      "mean      0.215868\n",
      "std       0.207809\n",
      "min       0.054545\n",
      "25%       0.116672\n",
      "50%       0.142973\n",
      "75%       0.184145\n",
      "max       1.000000\n",
      "Name: ka, dtype: float64\n",
      "Coefficient of variation =  0.9626677482101835\n"
     ]
    },
    {
     "data": {
      "image/png": "[encoded data removed]",
      "text/plain": [
       "<Figure size 432x288 with 2 Axes>"
      ]
     },
     "metadata": {
      "needs_background": "light"
     },
     "output_type": "display_data"
    }
   ],
   "source": [
    "show_stats(df_de_results, 'ka')"
   ]
  },
  {
   "cell_type": "code",
   "execution_count": 24,
   "metadata": {
    "scrolled": true
   },
   "outputs": [
    {
     "name": "stdout",
     "output_type": "stream",
     "text": [
      "count    42.000000\n",
      "mean     61.546844\n",
      "std      19.609905\n",
      "min      30.000000\n",
      "25%      42.230000\n",
      "50%      62.904833\n",
      "75%      79.764010\n",
      "max      90.000000\n",
      "Name: k12, dtype: float64\n",
      "Coefficient of variation =  0.3186175637422266\n"
     ]
    },
    {
     "data": {
      "image/png": "[encoded data removed]",
      "text/plain": [
       "<Figure size 432x288 with 2 Axes>"
      ]
     },
     "metadata": {
      "needs_background": "light"
     },
     "output_type": "display_data"
    }
   ],
   "source": [
    "show_stats(df_de_results, 'k12')"
   ]
  },
  {
   "cell_type": "code",
   "execution_count": 25,
   "metadata": {
    "scrolled": true
   },
   "outputs": [
    {
     "name": "stdout",
     "output_type": "stream",
     "text": [
      "count    42.000000\n",
      "mean      7.741424\n",
      "std       3.857692\n",
      "min       1.023739\n",
      "25%       4.410598\n",
      "50%       8.041050\n",
      "75%      10.423672\n",
      "max      15.000000\n",
      "Name: k21, dtype: float64\n",
      "Coefficient of variation =  0.498318061759598\n"
     ]
    },
    {
     "data": {
      "image/png": "[encoded data removed]",
      "text/plain": [
       "<Figure size 432x288 with 2 Axes>"
      ]
     },
     "metadata": {
      "needs_background": "light"
     },
     "output_type": "display_data"
    }
   ],
   "source": [
    "show_stats(df_de_results, 'k21')"
   ]
  },
  {
   "cell_type": "code",
   "execution_count": 26,
   "metadata": {
    "scrolled": true
   },
   "outputs": [
    {
     "name": "stdout",
     "output_type": "stream",
     "text": [
      "count    42.000000\n",
      "mean     13.784755\n",
      "std       7.190257\n",
      "min       3.559836\n",
      "25%       9.287695\n",
      "50%      11.881241\n",
      "75%      17.856034\n",
      "max      34.055222\n",
      "Name: ke, dtype: float64\n",
      "Coefficient of variation =  0.5216093314200068\n"
     ]
    },
    {
     "data": {
      "image/png": "[encoded data removed]",
      "text/plain": [
       "<Figure size 432x288 with 2 Axes>"
      ]
     },
     "metadata": {
      "needs_background": "light"
     },
     "output_type": "display_data"
    }
   ],
   "source": [
    "show_stats(df_de_results, 'ke')"
   ]
  },
  {
   "cell_type": "code",
   "execution_count": 27,
   "metadata": {},
   "outputs": [
    {
     "data": {
      "text/html": [
       "<div>\n",
       "<style scoped>\n",
       "    .dataframe tbody tr th:only-of-type {\n",
       "        vertical-align: middle;\n",
       "    }\n",
       "\n",
       "    .dataframe tbody tr th {\n",
       "        vertical-align: top;\n",
       "    }\n",
       "\n",
       "    .dataframe thead th {\n",
       "        text-align: right;\n",
       "    }\n",
       "</style>\n",
       "<table border=\"1\" class=\"dataframe\">\n",
       "  <thead>\n",
       "    <tr style=\"text-align: right;\">\n",
       "      <th></th>\n",
       "      <th>k</th>\n",
       "      <th>mean</th>\n",
       "      <th>std</th>\n",
       "    </tr>\n",
       "  </thead>\n",
       "  <tbody>\n",
       "    <tr>\n",
       "      <th>0</th>\n",
       "      <td>ka</td>\n",
       "      <td>0.215868</td>\n",
       "      <td>0.207809</td>\n",
       "    </tr>\n",
       "    <tr>\n",
       "      <th>1</th>\n",
       "      <td>k12</td>\n",
       "      <td>61.546844</td>\n",
       "      <td>19.609905</td>\n",
       "    </tr>\n",
       "    <tr>\n",
       "      <th>2</th>\n",
       "      <td>k21</td>\n",
       "      <td>7.741424</td>\n",
       "      <td>3.857692</td>\n",
       "    </tr>\n",
       "    <tr>\n",
       "      <th>3</th>\n",
       "      <td>ke</td>\n",
       "      <td>13.784755</td>\n",
       "      <td>7.190257</td>\n",
       "    </tr>\n",
       "  </tbody>\n",
       "</table>\n",
       "</div>"
      ],
      "text/plain": [
       "     k       mean        std\n",
       "0   ka   0.215868   0.207809\n",
       "1  k12  61.546844  19.609905\n",
       "2  k21   7.741424   3.857692\n",
       "3   ke  13.784755   7.190257"
      ]
     },
     "execution_count": 27,
     "metadata": {},
     "output_type": "execute_result"
    }
   ],
   "source": [
    "pd.DataFrame(k_stats, columns = ['k','mean','std'])"
   ]
  },
  {
   "cell_type": "code",
   "execution_count": 28,
   "metadata": {},
   "outputs": [
    {
     "data": {
      "image/png": "[encoded data removed]",
      "text/plain": [
       "<Figure size 432x288 with 1 Axes>"
      ]
     },
     "metadata": {
      "needs_background": "light"
     },
     "output_type": "display_data"
    }
   ],
   "source": [
    "plt.scatter(*zip(*list_of_cov));"
   ]
  },
  {
   "cell_type": "markdown",
   "metadata": {},
   "source": [
    "### Review k values for Single Dosing subjects"
   ]
  },
  {
   "cell_type": "code",
   "execution_count": 29,
   "metadata": {},
   "outputs": [],
   "source": [
    "df_de_results_single = df_de_results.loc[df_de_results['dosing'] == 'Single']\n",
    "list_of_cov = [] # List to store coefficient of variation (CoV) across all the k\n",
    "k_stats = []"
   ]
  },
  {
   "cell_type": "code",
   "execution_count": 30,
   "metadata": {
    "scrolled": true
   },
   "outputs": [
    {
     "name": "stdout",
     "output_type": "stream",
     "text": [
      "count    17.000000\n",
      "mean      0.178681\n",
      "std       0.157613\n",
      "min       0.054545\n",
      "25%       0.094266\n",
      "50%       0.120667\n",
      "75%       0.180112\n",
      "max       0.609354\n",
      "Name: ka, dtype: float64\n",
      "Coefficient of variation =  0.8820944979592231\n"
     ]
    },
    {
     "data": {
      "image/png": "[encoded data removed]",
      "text/plain": [
       "<Figure size 432x288 with 2 Axes>"
      ]
     },
     "metadata": {
      "needs_background": "light"
     },
     "output_type": "display_data"
    }
   ],
   "source": [
    "show_stats(df_de_results_single,'ka')"
   ]
  },
  {
   "cell_type": "code",
   "execution_count": 31,
   "metadata": {
    "scrolled": true
   },
   "outputs": [
    {
     "name": "stdout",
     "output_type": "stream",
     "text": [
      "count    17.000000\n",
      "mean     59.210231\n",
      "std      21.048795\n",
      "min      30.000000\n",
      "25%      41.531783\n",
      "50%      54.745020\n",
      "75%      85.376661\n",
      "max      86.951865\n",
      "Name: k12, dtype: float64\n",
      "Coefficient of variation =  0.3554925383413588\n"
     ]
    },
    {
     "data": {
      "image/png": "[encoded data removed]",
      "text/plain": [
       "<Figure size 432x288 with 2 Axes>"
      ]
     },
     "metadata": {
      "needs_background": "light"
     },
     "output_type": "display_data"
    }
   ],
   "source": [
    "show_stats(df_de_results_single,'k12')"
   ]
  },
  {
   "cell_type": "code",
   "execution_count": 32,
   "metadata": {
    "scrolled": true
   },
   "outputs": [
    {
     "name": "stdout",
     "output_type": "stream",
     "text": [
      "count    17.000000\n",
      "mean      7.978354\n",
      "std       3.775985\n",
      "min       1.682841\n",
      "25%       5.521204\n",
      "50%       8.532841\n",
      "75%      10.498554\n",
      "max      13.521328\n",
      "Name: k21, dtype: float64\n",
      "Coefficient of variation =  0.473278684882898\n"
     ]
    },
    {
     "data": {
      "image/png": "[encoded data removed]",
      "text/plain": [
       "<Figure size 432x288 with 2 Axes>"
      ]
     },
     "metadata": {
      "needs_background": "light"
     },
     "output_type": "display_data"
    }
   ],
   "source": [
    "show_stats(df_de_results_single,'k21')"
   ]
  },
  {
   "cell_type": "code",
   "execution_count": 33,
   "metadata": {
    "scrolled": false
   },
   "outputs": [
    {
     "name": "stdout",
     "output_type": "stream",
     "text": [
      "count    17.000000\n",
      "mean     16.498147\n",
      "std       6.881593\n",
      "min       7.870886\n",
      "25%      11.682374\n",
      "50%      15.222040\n",
      "75%      20.577863\n",
      "max      34.055222\n",
      "Name: ke, dtype: float64\n",
      "Coefficient of variation =  0.417113107766423\n"
     ]
    },
    {
     "data": {
      "image/png": "[encoded data removed]",
      "text/plain": [
       "<Figure size 432x288 with 2 Axes>"
      ]
     },
     "metadata": {
      "needs_background": "light"
     },
     "output_type": "display_data"
    }
   ],
   "source": [
    "show_stats(df_de_results_single,'ke')"
   ]
  },
  {
   "cell_type": "code",
   "execution_count": 34,
   "metadata": {},
   "outputs": [
    {
     "data": {
      "text/html": [
       "<div>\n",
       "<style scoped>\n",
       "    .dataframe tbody tr th:only-of-type {\n",
       "        vertical-align: middle;\n",
       "    }\n",
       "\n",
       "    .dataframe tbody tr th {\n",
       "        vertical-align: top;\n",
       "    }\n",
       "\n",
       "    .dataframe thead th {\n",
       "        text-align: right;\n",
       "    }\n",
       "</style>\n",
       "<table border=\"1\" class=\"dataframe\">\n",
       "  <thead>\n",
       "    <tr style=\"text-align: right;\">\n",
       "      <th></th>\n",
       "      <th>k</th>\n",
       "      <th>mean</th>\n",
       "      <th>std</th>\n",
       "    </tr>\n",
       "  </thead>\n",
       "  <tbody>\n",
       "    <tr>\n",
       "      <th>0</th>\n",
       "      <td>ka</td>\n",
       "      <td>0.178681</td>\n",
       "      <td>0.157613</td>\n",
       "    </tr>\n",
       "    <tr>\n",
       "      <th>1</th>\n",
       "      <td>k12</td>\n",
       "      <td>59.210231</td>\n",
       "      <td>21.048795</td>\n",
       "    </tr>\n",
       "    <tr>\n",
       "      <th>2</th>\n",
       "      <td>k21</td>\n",
       "      <td>7.978354</td>\n",
       "      <td>3.775985</td>\n",
       "    </tr>\n",
       "    <tr>\n",
       "      <th>3</th>\n",
       "      <td>ke</td>\n",
       "      <td>16.498147</td>\n",
       "      <td>6.881593</td>\n",
       "    </tr>\n",
       "  </tbody>\n",
       "</table>\n",
       "</div>"
      ],
      "text/plain": [
       "     k       mean        std\n",
       "0   ka   0.178681   0.157613\n",
       "1  k12  59.210231  21.048795\n",
       "2  k21   7.978354   3.775985\n",
       "3   ke  16.498147   6.881593"
      ]
     },
     "execution_count": 34,
     "metadata": {},
     "output_type": "execute_result"
    }
   ],
   "source": [
    "pd.DataFrame(k_stats, columns = ['k','mean','std'])"
   ]
  },
  {
   "cell_type": "code",
   "execution_count": 35,
   "metadata": {},
   "outputs": [
    {
     "data": {
      "image/png": "[encoded data removed]",
      "text/plain": [
       "<Figure size 432x288 with 1 Axes>"
      ]
     },
     "metadata": {
      "needs_background": "light"
     },
     "output_type": "display_data"
    }
   ],
   "source": [
    "plt.scatter(*zip(*list_of_cov));"
   ]
  },
  {
   "cell_type": "markdown",
   "metadata": {},
   "source": [
    "#### Review k values for Multiple Dosing subjects"
   ]
  },
  {
   "cell_type": "code",
   "execution_count": 36,
   "metadata": {},
   "outputs": [],
   "source": [
    "df_de_results_multiple = df_de_results.loc[df_de_results['dosing'] == 'Multiple']\n",
    "list_of_cov = [] # List to store coefficient of variation (CoV) across all the k\n",
    "k_stats = []"
   ]
  },
  {
   "cell_type": "code",
   "execution_count": 37,
   "metadata": {
    "scrolled": true
   },
   "outputs": [
    {
     "name": "stdout",
     "output_type": "stream",
     "text": [
      "count    25.000000\n",
      "mean      0.241155\n",
      "std       0.235726\n",
      "min       0.089755\n",
      "25%       0.127628\n",
      "50%       0.148874\n",
      "75%       0.189542\n",
      "max       1.000000\n",
      "Name: ka, dtype: float64\n",
      "Coefficient of variation =  0.9774868954155568\n"
     ]
    },
    {
     "data": {
      "image/png": "[encoded data removed]",
      "text/plain": [
       "<Figure size 432x288 with 2 Axes>"
      ]
     },
     "metadata": {
      "needs_background": "light"
     },
     "output_type": "display_data"
    }
   ],
   "source": [
    "show_stats(df_de_results_multiple, 'ka')"
   ]
  },
  {
   "cell_type": "code",
   "execution_count": 38,
   "metadata": {
    "scrolled": true
   },
   "outputs": [
    {
     "name": "stdout",
     "output_type": "stream",
     "text": [
      "count    25.000000\n",
      "mean     63.135740\n",
      "std      18.843351\n",
      "min      32.336089\n",
      "25%      46.187928\n",
      "50%      63.997095\n",
      "75%      79.710349\n",
      "max      90.000000\n",
      "Name: k12, dtype: float64\n",
      "Coefficient of variation =  0.2984577443458274\n"
     ]
    },
    {
     "data": {
      "image/png": "[encoded data removed]",
      "text/plain": [
       "<Figure size 432x288 with 2 Axes>"
      ]
     },
     "metadata": {
      "needs_background": "light"
     },
     "output_type": "display_data"
    }
   ],
   "source": [
    "show_stats(df_de_results_multiple, 'k12')"
   ]
  },
  {
   "cell_type": "code",
   "execution_count": 39,
   "metadata": {
    "scrolled": true
   },
   "outputs": [
    {
     "name": "stdout",
     "output_type": "stream",
     "text": [
      "count    25.000000\n",
      "mean      7.580312\n",
      "std       3.981316\n",
      "min       1.023739\n",
      "25%       4.040396\n",
      "50%       7.559553\n",
      "75%      10.199024\n",
      "max      15.000000\n",
      "Name: k21, dtype: float64\n",
      "Coefficient of variation =  0.525217865175471\n"
     ]
    },
    {
     "data": {
      "image/png": "[encoded data removed]",
      "text/plain": [
       "<Figure size 432x288 with 2 Axes>"
      ]
     },
     "metadata": {
      "needs_background": "light"
     },
     "output_type": "display_data"
    }
   ],
   "source": [
    "show_stats(df_de_results_multiple, 'k21')"
   ]
  },
  {
   "cell_type": "code",
   "execution_count": 40,
   "metadata": {
    "scrolled": true
   },
   "outputs": [
    {
     "name": "stdout",
     "output_type": "stream",
     "text": [
      "count    25.000000\n",
      "mean     11.939648\n",
      "std       6.927353\n",
      "min       3.559836\n",
      "25%       8.081584\n",
      "50%       9.817134\n",
      "75%      12.612840\n",
      "max      29.515564\n",
      "Name: ke, dtype: float64\n",
      "Coefficient of variation =  0.5801974127584119\n"
     ]
    },
    {
     "data": {
      "image/png": "[encoded data removed]",
      "text/plain": [
       "<Figure size 432x288 with 2 Axes>"
      ]
     },
     "metadata": {
      "needs_background": "light"
     },
     "output_type": "display_data"
    }
   ],
   "source": [
    "show_stats(df_de_results_multiple, 'ke')"
   ]
  },
  {
   "cell_type": "code",
   "execution_count": 41,
   "metadata": {},
   "outputs": [
    {
     "data": {
      "text/html": [
       "<div>\n",
       "<style scoped>\n",
       "    .dataframe tbody tr th:only-of-type {\n",
       "        vertical-align: middle;\n",
       "    }\n",
       "\n",
       "    .dataframe tbody tr th {\n",
       "        vertical-align: top;\n",
       "    }\n",
       "\n",
       "    .dataframe thead th {\n",
       "        text-align: right;\n",
       "    }\n",
       "</style>\n",
       "<table border=\"1\" class=\"dataframe\">\n",
       "  <thead>\n",
       "    <tr style=\"text-align: right;\">\n",
       "      <th></th>\n",
       "      <th>k</th>\n",
       "      <th>mean</th>\n",
       "      <th>std</th>\n",
       "    </tr>\n",
       "  </thead>\n",
       "  <tbody>\n",
       "    <tr>\n",
       "      <th>0</th>\n",
       "      <td>ka</td>\n",
       "      <td>0.241155</td>\n",
       "      <td>0.235726</td>\n",
       "    </tr>\n",
       "    <tr>\n",
       "      <th>1</th>\n",
       "      <td>k12</td>\n",
       "      <td>63.135740</td>\n",
       "      <td>18.843351</td>\n",
       "    </tr>\n",
       "    <tr>\n",
       "      <th>2</th>\n",
       "      <td>k21</td>\n",
       "      <td>7.580312</td>\n",
       "      <td>3.981316</td>\n",
       "    </tr>\n",
       "    <tr>\n",
       "      <th>3</th>\n",
       "      <td>ke</td>\n",
       "      <td>11.939648</td>\n",
       "      <td>6.927353</td>\n",
       "    </tr>\n",
       "  </tbody>\n",
       "</table>\n",
       "</div>"
      ],
      "text/plain": [
       "     k       mean        std\n",
       "0   ka   0.241155   0.235726\n",
       "1  k12  63.135740  18.843351\n",
       "2  k21   7.580312   3.981316\n",
       "3   ke  11.939648   6.927353"
      ]
     },
     "execution_count": 41,
     "metadata": {},
     "output_type": "execute_result"
    }
   ],
   "source": [
    "pd.DataFrame(k_stats, columns = ['k','mean','std'])"
   ]
  },
  {
   "cell_type": "code",
   "execution_count": 42,
   "metadata": {},
   "outputs": [
    {
     "data": {
      "image/png": "[encoded data removed]",
      "text/plain": [
       "<Figure size 432x288 with 1 Axes>"
      ]
     },
     "metadata": {
      "needs_background": "light"
     },
     "output_type": "display_data"
    }
   ],
   "source": [
    "plt.scatter(*zip(*list_of_cov));"
   ]
  },
  {
   "cell_type": "code",
   "execution_count": null,
   "metadata": {},
   "outputs": [],
   "source": []
  }
 ],
 "metadata": {
  "kernelspec": {
   "display_name": "Python 3",
   "language": "python",
   "name": "python3"
  },
  "language_info": {
   "codemirror_mode": {
    "name": "ipython",
    "version": 3
   },
   "file_extension": ".py",
   "mimetype": "text/x-python",
   "name": "python",
   "nbconvert_exporter": "python",
   "pygments_lexer": "ipython3",
   "version": "3.7.7"
  }
 },
 "nbformat": 4,
 "nbformat_minor": 4
}
